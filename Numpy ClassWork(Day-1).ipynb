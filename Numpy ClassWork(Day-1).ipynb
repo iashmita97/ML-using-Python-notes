{
 "cells": [
  {
   "cell_type": "code",
   "execution_count": 2,
   "id": "14b6c3b1-71e9-44a6-8135-63c3aa07e383",
   "metadata": {},
   "outputs": [
    {
     "name": "stdout",
     "output_type": "stream",
     "text": [
      "2.3.2\n"
     ]
    }
   ],
   "source": [
    "# importing required modules\n",
    "#!pip install numpy\n",
    "import numpy as np\n",
    "print(np.__version__)"
   ]
  },
  {
   "cell_type": "code",
   "execution_count": 3,
   "id": "da18694d-b7e6-4fde-9da5-1e4d96d6c81f",
   "metadata": {},
   "outputs": [
    {
     "name": "stdout",
     "output_type": "stream",
     "text": [
      "[11, 22, 33, 44, 55, 66, 77, 88] 8 <class 'list'>\n",
      "[11 22 33 44 55 66 77 88] 8 <class 'numpy.ndarray'> int64\n"
     ]
    }
   ],
   "source": [
    "# create nd-array from a list\n",
    "data1 = [11, 22, 33, 44, 55, 66, 77, 88]\n",
    "print(data1, len(data1), type(data1))\n",
    "arr1 = np.array(data1)\n",
    "print(arr1, len(arr1), type(arr1), arr1.dtype)"
   ]
  },
  {
   "cell_type": "code",
   "execution_count": 4,
   "id": "e1f79c17-3f43-47fe-ba38-47550f5f0b9e",
   "metadata": {},
   "outputs": [
    {
     "name": "stdout",
     "output_type": "stream",
     "text": [
      "[11, 22, 33, 44.5, 55, 66, 77, 88] 8 <class 'list'>\n",
      "[11.  22.  33.  44.5 55.  66.  77.  88. ] 8 <class 'numpy.ndarray'> float64\n"
     ]
    }
   ],
   "source": [
    "# create nd-array from a list\n",
    "data1 = [11, 22, 33, 44.5, 55, 66, 77, 88]\n",
    "print(data1, len(data1), type(data1))\n",
    "arr1 = np.array(data1)\n",
    "print(arr1, len(arr1), type(arr1), arr1.dtype)"
   ]
  },
  {
   "cell_type": "code",
   "execution_count": 5,
   "id": "4b88508f-9aed-4f78-a4b8-1421d7316f34",
   "metadata": {},
   "outputs": [
    {
     "name": "stdout",
     "output_type": "stream",
     "text": [
      "[11, 22, 33, 44, 55, 66, 77, 88, True, False] 10 <class 'list'>\n",
      "[11 22 33 44 55 66 77 88  1  0] 10 <class 'numpy.ndarray'> int64\n"
     ]
    }
   ],
   "source": [
    "# create nd-array from a list\n",
    "data1 = [11, 22, 33, 44, 55, 66, 77, 88, True, False]\n",
    "print(data1, len(data1), type(data1))\n",
    "arr1 = np.array(data1)\n",
    "print(arr1, len(arr1), type(arr1), arr1.dtype)"
   ]
  },
  {
   "cell_type": "code",
   "execution_count": 6,
   "id": "142aea7a-d0fc-439c-950e-a872b35c8b9b",
   "metadata": {},
   "outputs": [
    {
     "name": "stdout",
     "output_type": "stream",
     "text": [
      "[11, 22, 33, 44, 55, 66.5, 77, 'AEC', 88, True, False] 11 <class 'list'>\n",
      "['11' '22' '33' '44' '55' '66.5' '77' 'AEC' '88' 'True' 'False'] 11 <class 'numpy.ndarray'> <U32\n"
     ]
    }
   ],
   "source": [
    "# create nd-array from a list\n",
    "data1 = [11, 22, 33, 44, 55, 66.5, 77, 'AEC', 88, True, False]\n",
    "print(data1, len(data1), type(data1))\n",
    "arr1 = np.array(data1)\n",
    "print(arr1, len(arr1), type(arr1), arr1.dtype)"
   ]
  },
  {
   "cell_type": "code",
   "execution_count": 7,
   "id": "b1044ff2-a5c7-4ce6-bf7b-e04f46e36a2e",
   "metadata": {},
   "outputs": [
    {
     "name": "stdout",
     "output_type": "stream",
     "text": [
      "range(1, 20, 3)\n",
      "[ 1  4  7 10 13 16 19]\n",
      "1, 4, 7, 10, 13, 16, 19, "
     ]
    }
   ],
   "source": [
    "data1 = range(1, 20, 3)   # list containing 0 to 9\n",
    "print(data1)\n",
    "arr1 = np.array(data1)\n",
    "print(arr1)\n",
    "for item in np.nditer(arr1):\n",
    "    print(item, end = \", \")"
   ]
  },
  {
   "cell_type": "code",
   "execution_count": 8,
   "id": "634d1d6b-5ae2-4ab8-b488-8bc76dd890a5",
   "metadata": {},
   "outputs": [
    {
     "name": "stdout",
     "output_type": "stream",
     "text": [
      "[range(1, 5), range(6, 10)]\n",
      "[[1 2 3 4]\n",
      " [6 7 8 9]]\n",
      "1, 2, 3, 4, 6, 7, 8, 9, "
     ]
    }
   ],
   "source": [
    "data2 = [range(1, 5), range(6, 10)]\n",
    "print(data2)\n",
    "arr2 = np.array(data2)\n",
    "print(arr2)   # creating 2-dimensional array\n",
    "for item in np.nditer(arr2):\n",
    "    print(item, end = \", \")"
   ]
  },
  {
   "cell_type": "code",
   "execution_count": 9,
   "id": "5e39fda7-8255-4050-87b7-acaab239f4e3",
   "metadata": {},
   "outputs": [
    {
     "name": "stdout",
     "output_type": "stream",
     "text": [
      "[11, 22, 33, 44] [11 22 33 44]\n",
      "[11 22 33 44] [np.int64(11), np.int64(22), np.int64(33), np.int64(44)]\n",
      "[11 22 33 44] [11, 22, 33, 44]\n"
     ]
    }
   ],
   "source": [
    "data1 = [11, 22, 33, 44]\n",
    "arr1 = np.array(data1)\n",
    "print(data1, arr1)\n",
    "result = list(arr1)\n",
    "print(arr1, result)\n",
    "result = arr1.tolist()\n",
    "print(arr1, result)"
   ]
  },
  {
   "cell_type": "code",
   "execution_count": 10,
   "id": "7d4cd252-3ec2-45fc-bc43-0477cad12e85",
   "metadata": {},
   "outputs": [
    {
     "name": "stdout",
     "output_type": "stream",
     "text": [
      "[[11, 22, 33, 44], [55, 66, 77, 88]]\n",
      "[[11 22 33 44]\n",
      " [55 66 77 88]]\n",
      "[[11 22 33 44]\n",
      " [55 66 77 88]]\n",
      "[array([11, 22, 33, 44]), array([55, 66, 77, 88])]\n",
      "[[11 22 33 44]\n",
      " [55 66 77 88]]\n",
      "[[11, 22, 33, 44], [55, 66, 77, 88]]\n"
     ]
    }
   ],
   "source": [
    "data2 = [[11, 22, 33, 44], [55, 66, 77, 88]]\n",
    "arr2 = np.array(data2)\n",
    "print(data2)\n",
    "print(arr2)\n",
    "result = list(arr2)\n",
    "print(arr2)\n",
    "print(result)\n",
    "result = arr2.tolist()\n",
    "print(arr2)\n",
    "print(result)"
   ]
  },
  {
   "cell_type": "code",
   "execution_count": 11,
   "id": "4aa96b83-96fd-4e72-8708-8827241c5c03",
   "metadata": {},
   "outputs": [
    {
     "name": "stdout",
     "output_type": "stream",
     "text": [
      "[11 22 33 44 55 66 77 88] <class 'numpy.ndarray'> 2488573177808\n",
      "int64 (8,) 8 1\n",
      "8 64\n"
     ]
    }
   ],
   "source": [
    "# examining arrays\n",
    "arr1 = np.array([11, 22, 33, 44, 55, 66, 77, 88])\n",
    "print(arr1, type(arr1), id(arr1))\n",
    "print(arr1.dtype, arr1.shape, len(arr1), arr1.ndim)\n",
    "print(arr1.size, arr1.nbytes)  # total number of data items"
   ]
  },
  {
   "cell_type": "code",
   "execution_count": 12,
   "id": "44df8079-ae5d-473a-b68d-ed1f3e1b166d",
   "metadata": {},
   "outputs": [
    {
     "name": "stdout",
     "output_type": "stream",
     "text": [
      "8 <class 'int'>\n",
      "(8,) <class 'tuple'>\n"
     ]
    }
   ],
   "source": [
    "var1 = (8)\n",
    "print(var1, type(var1))\n",
    "var1 = (8,)  # singleton representation of a tuple\n",
    "print(var1, type(var1))"
   ]
  },
  {
   "cell_type": "code",
   "execution_count": 13,
   "id": "a6da7501-654d-4e8f-ab23-08bc9b6fc2ab",
   "metadata": {},
   "outputs": [
    {
     "name": "stdout",
     "output_type": "stream",
     "text": [
      "[[11 22 33 44]\n",
      " [55 66 77 88]] <class 'numpy.ndarray'> 2488573178096\n",
      "int64 (2, 4) 2 2\n",
      "8\n",
      "Number of rows = 2 and columns = 4\n"
     ]
    }
   ],
   "source": [
    "arr2 = np.array([[11, 22, 33, 44], [55, 66, 77, 88]])\n",
    "print(arr2, type(arr2), id(arr2))\n",
    "print(arr2.dtype, arr2.shape, len(arr2), arr2.ndim)\n",
    "print(arr2.size)  # total number of data items\n",
    "print(f\"Number of rows = {arr2.shape[0]} and columns = {arr2.shape[1]}\")"
   ]
  },
  {
   "cell_type": "code",
   "execution_count": 14,
   "id": "170af79e-9ee4-40f1-97f8-2462ebcc88e2",
   "metadata": {},
   "outputs": [
    {
     "name": "stdout",
     "output_type": "stream",
     "text": [
      "[0. 0. 0. 0. 0. 0. 0. 0. 0. 0.]\n",
      "[0 0 0 0 0 0 0 0 0 0]\n",
      "[0 0 0 0 0 0 0 0 0 0]\n",
      "[[0. 0. 0. 0. 0.]\n",
      " [0. 0. 0. 0. 0.]]\n",
      "[[0 0 0 0 0]\n",
      " [0 0 0 0 0]]\n",
      "[[0 0 0 0 0]\n",
      " [0 0 0 0 0]]\n"
     ]
    }
   ],
   "source": [
    "# create special arrays\n",
    "print(np.zeros(10))\n",
    "print(np.zeros(10, np.int32))\n",
    "print(np.zeros(10).astype(int))\n",
    "print(np.zeros((2, 5)))\n",
    "print(np.zeros((2, 5), np.int32))\n",
    "print(np.zeros((2, 5)).astype(int))"
   ]
  },
  {
   "cell_type": "code",
   "execution_count": 15,
   "id": "fb274095-c829-480c-8ff7-d623906ba40d",
   "metadata": {},
   "outputs": [
    {
     "name": "stdout",
     "output_type": "stream",
     "text": [
      "[1. 1. 1. 1. 1. 1. 1. 1. 1. 1.]\n",
      "[1 1 1 1 1 1 1 1 1 1]\n",
      "[1 1 1 1 1 1 1 1 1 1]\n",
      "[[1. 1. 1. 1. 1.]\n",
      " [1. 1. 1. 1. 1.]]\n",
      "[[1 1 1 1 1]\n",
      " [1 1 1 1 1]]\n",
      "[[1 1 1 1 1]\n",
      " [1 1 1 1 1]]\n"
     ]
    }
   ],
   "source": [
    "print(np.ones(10))\n",
    "print(np.ones(10, np.int32))\n",
    "print(np.ones(10).astype(int))\n",
    "print(np.ones((2, 5)))\n",
    "print(np.ones((2, 5), np.int32))\n",
    "print(np.ones((2, 5)).astype(int))"
   ]
  },
  {
   "cell_type": "code",
   "execution_count": 16,
   "id": "00b31993-6c67-4501-934c-f59486041a22",
   "metadata": {},
   "outputs": [
    {
     "name": "stdout",
     "output_type": "stream",
     "text": [
      "[[5. 5. 5. 5. 5.]\n",
      " [5. 5. 5. 5. 5.]\n",
      " [5. 5. 5. 5. 5.]]\n",
      "[[5. 5. 5. 5. 5.]\n",
      " [5. 5. 5. 5. 5.]\n",
      " [5. 5. 5. 5. 5.]]\n"
     ]
    }
   ],
   "source": [
    "print(np.zeros((3, 5)) + 5)   # vector and scalar operation\n",
    "print(np.ones((3, 5)) * 5)"
   ]
  },
  {
   "cell_type": "code",
   "execution_count": 17,
   "id": "045fa1bf-ed3f-4a07-9551-c7cdb1ad438e",
   "metadata": {},
   "outputs": [
    {
     "name": "stdout",
     "output_type": "stream",
     "text": [
      "[ 1.    3.25  5.5   7.75 10.  ]\n",
      "[ 1.   5.9 10.8 15.7 20.6 25.5 30.4 35.3 40.2 45.1 50. ]\n"
     ]
    }
   ],
   "source": [
    "print(np.linspace(1, 10, 5))\n",
    "print(np.linspace(1, 50, 11))"
   ]
  },
  {
   "cell_type": "code",
   "execution_count": 18,
   "id": "4a267f2e-bbdb-4f4d-a970-a6c00377fded",
   "metadata": {},
   "outputs": [
    {
     "name": "stdout",
     "output_type": "stream",
     "text": [
      "[   1.   10.  100. 1000.]\n",
      "[1. 2. 4. 8.]\n",
      "[  1.   2.   4.   8.  16.  32.  64. 128. 256.]\n",
      "[1.00000000e+00 2.71828183e+00 7.38905610e+00 2.00855369e+01\n",
      " 5.45981500e+01 1.48413159e+02 4.03428793e+02 1.09663316e+03\n",
      " 2.98095799e+03]\n"
     ]
    }
   ],
   "source": [
    "print(np.logspace(0, 3, 4))\n",
    "print(np.logspace(0, 3, 4, base = 2))\n",
    "print(np.logspace(0, 8, 9, base = 2))\n",
    "print(np.logspace(0, 8, 9, base = np.e))"
   ]
  },
  {
   "cell_type": "code",
   "execution_count": 19,
   "id": "c7c03b81-3c5a-4a9a-bc46-b71906828c38",
   "metadata": {},
   "outputs": [
    {
     "name": "stdout",
     "output_type": "stream",
     "text": [
      "[1 3 5 7 9] <class 'numpy.ndarray'>\n",
      "[11  9  7  5  3  1] <class 'numpy.ndarray'>\n",
      "[1. 3. 5. 7. 9.] <class 'numpy.ndarray'>\n"
     ]
    }
   ],
   "source": [
    "arr1 = np.arange(1, 11, 2)\n",
    "print(arr1, type(arr1))\n",
    "arr1 = np.arange(11, 0, -2)\n",
    "print(arr1, type(arr1))\n",
    "arr1 = np.arange(1, 11, 2).astype(float)\n",
    "print(arr1, type(arr1))"
   ]
  },
  {
   "cell_type": "code",
   "execution_count": 20,
   "id": "e984dbd0-5ac2-4f3e-b323-19f75bfc4ae0",
   "metadata": {},
   "outputs": [
    {
     "name": "stdout",
     "output_type": "stream",
     "text": [
      "[ 0  1  2  3  4  5  6  7  8  9 10 11 12 13 14 15 16 17 18 19]\n",
      "[[ 0  1  2  3  4]\n",
      " [ 5  6  7  8  9]\n",
      " [10 11 12 13 14]\n",
      " [15 16 17 18 19]]\n",
      "[[ 0  1  2  3  4]\n",
      " [ 5  6  7  8  9]\n",
      " [10 11 12 13 14]\n",
      " [15 16 17 18 19]]\n",
      "[[ 0  1  2  3  4]\n",
      " [ 5  6  7  8  9]\n",
      " [10 11 12 13 14]\n",
      " [15 16 17 18 19]]\n"
     ]
    }
   ],
   "source": [
    "# reshape of ndarray\n",
    "print(np.arange(20))\n",
    "print(np.arange(20).reshape(4, 5))\n",
    "print(np.arange(20).reshape(4, -1))\n",
    "print(np.arange(20).reshape(-1, 5))"
   ]
  },
  {
   "cell_type": "code",
   "execution_count": 21,
   "id": "a6cca80f-1b13-47ab-8b64-f44ab3c8c30e",
   "metadata": {},
   "outputs": [
    {
     "name": "stdout",
     "output_type": "stream",
     "text": [
      "[[[ 0  1  2  3  4]\n",
      "  [ 5  6  7  8  9]]\n",
      "\n",
      " [[10 11 12 13 14]\n",
      "  [15 16 17 18 19]]]\n"
     ]
    }
   ],
   "source": [
    "print(np.arange(20).reshape(2, -1, 5))"
   ]
  },
  {
   "cell_type": "code",
   "execution_count": 22,
   "id": "3c5fd7e5-5107-4e8e-94d2-ac52ab54c89b",
   "metadata": {},
   "outputs": [
    {
     "name": "stdout",
     "output_type": "stream",
     "text": [
      "[[ 0  1  2  3  4  5  6  7  8  9]\n",
      " [10 11 12 13 14 15 16 17 18 19]]\n",
      "[ 0  1  2  3  4  5  6  7  8  9 10 11 12 13 14 15 16 17 18 19]\n"
     ]
    }
   ],
   "source": [
    "arr2 = np.arange(20).reshape(2, 10)\n",
    "print(arr2)\n",
    "arr1 = arr2.flatten()\n",
    "print(arr1)"
   ]
  },
  {
   "cell_type": "code",
   "execution_count": 23,
   "id": "9810ad99-93cb-4b78-84dd-a4e463086f3d",
   "metadata": {},
   "outputs": [
    {
     "name": "stdout",
     "output_type": "stream",
     "text": [
      "[[[ 0  1  2  3  4]\n",
      "  [ 5  6  7  8  9]]\n",
      "\n",
      " [[10 11 12 13 14]\n",
      "  [15 16 17 18 19]]]\n",
      "[ 0  1  2  3  4  5  6  7  8  9 10 11 12 13 14 15 16 17 18 19]\n"
     ]
    }
   ],
   "source": [
    "arr2 = np.arange(20).reshape(2, 2, 5)\n",
    "print(arr2)\n",
    "arr1 = arr2.flatten()\n",
    "print(arr1)"
   ]
  },
  {
   "cell_type": "code",
   "execution_count": 24,
   "id": "eb0f27de-e30a-48e0-8a02-0791d3859a2b",
   "metadata": {},
   "outputs": [
    {
     "name": "stdout",
     "output_type": "stream",
     "text": [
      "[[ 0  1  2  3]\n",
      " [ 4  5  6  7]\n",
      " [ 8  9 10 11]\n",
      " [12 13 14 15]\n",
      " [16 17 18 19]]\n",
      "[[ 0  4  8 12 16]\n",
      " [ 1  5  9 13 17]\n",
      " [ 2  6 10 14 18]\n",
      " [ 3  7 11 15 19]]\n",
      "[[ 0  4  8 12 16]\n",
      " [ 1  5  9 13 17]\n",
      " [ 2  6 10 14 18]\n",
      " [ 3  7 11 15 19]]\n"
     ]
    }
   ],
   "source": [
    "arr2 = np.arange(20).reshape(5, 4)\n",
    "print(arr2)\n",
    "arr_transpose = arr2.T\n",
    "print(arr_transpose)\n",
    "arr_transpose = arr2.transpose()\n",
    "print(arr_transpose)"
   ]
  },
  {
   "cell_type": "markdown",
   "id": "19ef4044-9356-4678-8d42-70bc5de598da",
   "metadata": {},
   "source": [
    "<h1 style=\"color:brown\" align=\"center\"> <b>Numpy - Numeric Python </b></h1>"
   ]
  },
  {
   "cell_type": "markdown",
   "id": "b91260ab-2a22-4eda-aca5-7f5b3f5212f7",
   "metadata": {},
   "source": [
    "**NumPy** is an extennsion to the Python programming language, adding support for large, multi-dimensional (numerical) arrays and matrics, along with a large library of high-level mathematical functions to operate on those arrays. The full form of NumPy is Numeric Python."
   ]
  },
  {
   "cell_type": "code",
   "execution_count": 25,
   "id": "3e8c69c1-a159-4e10-80df-7641343c73ad",
   "metadata": {},
   "outputs": [
    {
     "name": "stdout",
     "output_type": "stream",
     "text": [
      "[[0. 1. 2. 3. 4.]\n",
      " [5. 6. 7. 8. 9.]]\n",
      "Stored in the C-style order (Row major):\n",
      "[[0. 1. 2. 3. 4.]\n",
      " [5. 6. 7. 8. 9.]]\n",
      "0.0, 1.0, 2.0, 3.0, 4.0, 5.0, 6.0, 7.0, 8.0, 9.0, "
     ]
    }
   ],
   "source": [
    "matrix = np.arange(10, dtype = float).reshape((2, 5))\n",
    "print(matrix)\n",
    "print(\"Stored in the C-style order (Row major):\")\n",
    "cmatrix = matrix.copy(order = 'C')\n",
    "print(cmatrix)\n",
    "for item in np.nditer(cmatrix):\n",
    "    print(item, end = \", \")"
   ]
  },
  {
   "cell_type": "code",
   "execution_count": 26,
   "id": "9ab26768-25c9-45e8-b7ef-ee63d0101a95",
   "metadata": {},
   "outputs": [
    {
     "name": "stdout",
     "output_type": "stream",
     "text": [
      "[[0. 1. 2. 3. 4.]\n",
      " [5. 6. 7. 8. 9.]]\n",
      "Stored in the F-style order (Column major):\n",
      "[[0. 1. 2. 3. 4.]\n",
      " [5. 6. 7. 8. 9.]]\n",
      "0.0, 5.0, 1.0, 6.0, 2.0, 7.0, 3.0, 8.0, 4.0, 9.0, "
     ]
    }
   ],
   "source": [
    "matrix = np.arange(10, dtype = float).reshape((2, 5))\n",
    "print(matrix)\n",
    "print(\"Stored in the F-style order (Column major):\")\n",
    "fmatrix = matrix.copy(order = 'F')\n",
    "print(fmatrix)\n",
    "for item in np.nditer(fmatrix):\n",
    "    print(item, end = \", \")"
   ]
  },
  {
   "cell_type": "code",
   "execution_count": 27,
   "id": "21a2ea1a-c60b-4b5b-a46a-87a57b023afa",
   "metadata": {},
   "outputs": [
    {
     "name": "stdout",
     "output_type": "stream",
     "text": [
      "[0 1 2 3 4 5 6 7 8 9] 10\n",
      "[ 0  1  2  3  4  5  6  7  8  9 11 22 33 44] 14\n",
      "[ 0  1  2 55 66  3  4  5  6  7  8  9 11 22 33 44] 16\n",
      "[ 0  1  2 55 66  5  7  8  9 11 22 33 44]\n"
     ]
    }
   ],
   "source": [
    "matrix = np.arange(10, dtype = np.int8)\n",
    "print(matrix, len(matrix))\n",
    "matrix = np.append(matrix, [11, 22, 33, 44])\n",
    "print(matrix, len(matrix))\n",
    "matrix = np.insert(matrix, 3, [55, 66])\n",
    "print(matrix, len(matrix))\n",
    "matrix = np.delete(matrix, [5, 6, 8]) # index numbers\n",
    "print(matrix)"
   ]
  },
  {
   "cell_type": "code",
   "execution_count": 28,
   "id": "a7e829fc-0f6b-4492-9ef4-8e1edebb57e6",
   "metadata": {},
   "outputs": [
    {
     "name": "stdout",
     "output_type": "stream",
     "text": [
      "[22 44 77 11 88 66]\n",
      "[11 22 44 66 77 88]\n",
      "[88 77 66 44 22 11]\n"
     ]
    }
   ],
   "source": [
    "matrix = np.array([22, 44, 77, 11, 88, 66])\n",
    "print(matrix)\n",
    "matrix1 = np.sort(matrix)  # ascending order\n",
    "print(matrix1)\n",
    "matrix1 = -np.sort(-matrix) # descending order\n",
    "print(matrix1)"
   ]
  },
  {
   "cell_type": "code",
   "execution_count": 29,
   "id": "10eb9668-a27f-48a5-9e71-3f6bd059b154",
   "metadata": {},
   "outputs": [
    {
     "name": "stdout",
     "output_type": "stream",
     "text": [
      "[[11 22]\n",
      " [33 44]] (2, 2) 2\n",
      "[[55 66]\n",
      " [77 88]] (2, 2) 2\n",
      "[[11 22]\n",
      " [33 44]\n",
      " [55 66]\n",
      " [77 88]] (4, 2) 2\n",
      "[[11 22 55 66]\n",
      " [33 44 77 88]] (2, 4) 2\n"
     ]
    }
   ],
   "source": [
    "matrix1 = np.array([[11, 22], [33, 44]])\n",
    "print(matrix1, matrix1.shape, matrix1.ndim)\n",
    "matrix2 = np.array([[55, 66], [77, 88]])\n",
    "print(matrix2, matrix2.shape, matrix2.ndim)\n",
    "# joining these two matrices along axis = 0\n",
    "matrix3 = np.concatenate((matrix1, matrix2))\n",
    "print(matrix3, matrix3.shape, matrix3.ndim)\n",
    "# joining these two matrices along axis = 1\n",
    "matrix4 = np.concatenate((matrix1, matrix2), axis = 1)\n",
    "print(matrix4, matrix4.shape, matrix4.ndim)"
   ]
  },
  {
   "cell_type": "code",
   "execution_count": 30,
   "id": "fc6da6a3-01f7-42ad-bd46-5748f74fc684",
   "metadata": {},
   "outputs": [
    {
     "name": "stdout",
     "output_type": "stream",
     "text": [
      "Stack the two arrays along axis 0\n",
      "[[[11 22]\n",
      "  [33 44]]\n",
      "\n",
      " [[55 66]\n",
      "  [77 88]]] (2, 2, 2) 3\n",
      "[[[11 22]\n",
      "  [55 66]]\n",
      "\n",
      " [[33 44]\n",
      "  [77 88]]] (2, 2, 2) 3\n"
     ]
    }
   ],
   "source": [
    "print(\"Stack the two arrays along axis 0\")\n",
    "matrix3 = np.stack((matrix1, matrix2))\n",
    "print(matrix3, matrix3.shape, matrix3.ndim)\n",
    "matrix4 = np.stack((matrix1, matrix2), axis = 1)\n",
    "print(matrix4, matrix4.shape, matrix4.ndim)"
   ]
  },
  {
   "cell_type": "code",
   "execution_count": 31,
   "id": "7a4dc36e-423b-49bb-a74e-49f1ffe406b9",
   "metadata": {},
   "outputs": [
    {
     "name": "stdout",
     "output_type": "stream",
     "text": [
      "[0 1 2 3 4 5 6 7 8 9]\n",
      "0 5\n",
      "[3 4 5 6]\n"
     ]
    }
   ],
   "source": [
    "arr1 = np.arange(10)\n",
    "print(arr1)\n",
    "print(arr1[0], arr1[5]) # indexing\n",
    "print(arr1[3:7])        # slicing"
   ]
  },
  {
   "cell_type": "code",
   "execution_count": 32,
   "id": "792eb4fd-9c87-416f-a8dd-3e7d69d98cd8",
   "metadata": {},
   "outputs": [
    {
     "name": "stdout",
     "output_type": "stream",
     "text": [
      "[[ 0  1  2  3  4]\n",
      " [ 5  6  7  8  9]\n",
      " [10 11 12 13 14]\n",
      " [15 16 17 18 19]]\n",
      "[10 11 12 13 14]\n",
      "[ 2  7 12 17]\n",
      "[[ 7  8]\n",
      " [12 13]]\n",
      "[[ 7  8  9]\n",
      " [12 13 14]\n",
      " [17 18 19]]\n"
     ]
    }
   ],
   "source": [
    "arr2 = np.arange(20).reshape(4, 5)\n",
    "print(arr2)\n",
    "print(arr2[2, :])\n",
    "print(arr2[:, 2])\n",
    "print(arr2[1:3, 2:4])\n",
    "print(arr2[1:, 2:])"
   ]
  },
  {
   "cell_type": "code",
   "execution_count": 33,
   "id": "2fd35efb-dc95-4b42-9c46-94e95baffc64",
   "metadata": {},
   "outputs": [
    {
     "name": "stdout",
     "output_type": "stream",
     "text": [
      "[[ 0  1  2  3  4]\n",
      " [ 5  6  7  8  9]\n",
      " [10 11 12 13 14]\n",
      " [15 16 17 18 19]]\n",
      "[[ 0  1  2  3  4]\n",
      " [10 11 12 13 14]]\n",
      "[[ 1  3]\n",
      " [11 13]]\n"
     ]
    }
   ],
   "source": [
    "print(arr2)\n",
    "print(arr2[0::2])\n",
    "print(arr2[0::2, 1::2])"
   ]
  },
  {
   "cell_type": "code",
   "execution_count": 34,
   "id": "b2f9f724-e1ad-4092-b1d6-2da8c9b081c3",
   "metadata": {},
   "outputs": [
    {
     "name": "stdout",
     "output_type": "stream",
     "text": [
      "[0 1 2 3 4 5 6 7 8 9] <class 'numpy.ndarray'>\n",
      "[2 3 4]\n",
      "[  0   1 100 100 100   5   6   7   8   9]\n"
     ]
    }
   ],
   "source": [
    "arr1 = np.arange(10)\n",
    "print(arr1, type(arr1))\n",
    "print(arr1[2:5])\n",
    "arr1[2:5] = 100\n",
    "print(arr1)"
   ]
  },
  {
   "cell_type": "code",
   "execution_count": 35,
   "id": "d563b90d-5a9f-4a51-9e25-ffd28470a74d",
   "metadata": {},
   "outputs": [
    {
     "name": "stdout",
     "output_type": "stream",
     "text": [
      "[0 1 2 3 4 5 6 7 8 9] <class 'numpy.ndarray'>\n",
      "[2 3 4]\n",
      "[  0   1 100 100 100   5   6   7   8   9]\n",
      "[100 100 100]\n"
     ]
    }
   ],
   "source": [
    "arr1 = np.arange(10)\n",
    "print(arr1, type(arr1))\n",
    "arr_view = arr1[2:5]  # creating a view\n",
    "print(arr_view)\n",
    "arr1[2:5] = 100\n",
    "print(arr1)\n",
    "print(arr_view)"
   ]
  },
  {
   "cell_type": "code",
   "execution_count": 36,
   "id": "a5e48f3e-bff2-46c8-9364-6d4484cfe846",
   "metadata": {},
   "outputs": [
    {
     "name": "stdout",
     "output_type": "stream",
     "text": [
      "[0 1 2 3 4 5 6 7 8 9] <class 'numpy.ndarray'>\n",
      "[2 3 4]\n",
      "[0 1 2 3 4 5 6 7 8 9]\n",
      "[100 100 100]\n",
      "[9 8 7 6 5 4 3 2 1 0]\n"
     ]
    }
   ],
   "source": [
    "arr1 = np.arange(10)\n",
    "print(arr1, type(arr1))\n",
    "arr_copy = arr1[2:5].copy()  # creating a copy\n",
    "print(arr_copy)\n",
    "arr_copy[:] = 100\n",
    "print(arr1)\n",
    "print(arr_copy)\n",
    "print(arr1[::-1])"
   ]
  },
  {
   "cell_type": "code",
   "execution_count": 37,
   "id": "fd0adb4e",
   "metadata": {},
   "outputs": [
    {
     "name": "stdout",
     "output_type": "stream",
     "text": [
      "university ytisrevinu\n"
     ]
    }
   ],
   "source": [
    "mystr = \"university\"\n",
    "print(mystr, mystr[::-1])"
   ]
  },
  {
   "cell_type": "code",
   "execution_count": 38,
   "id": "6bb463b7",
   "metadata": {},
   "outputs": [
    {
     "data": {
      "text/plain": [
       "array([[1., 1., 1., 1., 1., 1.],\n",
       "       [1., 0., 0., 0., 0., 1.],\n",
       "       [1., 0., 0., 0., 0., 1.],\n",
       "       [1., 0., 0., 0., 0., 1.],\n",
       "       [1., 0., 0., 0., 0., 1.],\n",
       "       [1., 1., 1., 1., 1., 1.]])"
      ]
     },
     "execution_count": 38,
     "metadata": {},
     "output_type": "execute_result"
    }
   ],
   "source": [
    "arr2 = np.zeros((6, 6))\n",
    "arr2[[0, -1], :] = 1\n",
    "arr2[:, [0, -1]] = 1\n",
    "arr2"
   ]
  },
  {
   "cell_type": "code",
   "execution_count": 39,
   "id": "26404f07",
   "metadata": {},
   "outputs": [
    {
     "data": {
      "text/plain": [
       "array([[1., 1., 1., 1., 1., 1.],\n",
       "       [0., 0., 0., 0., 0., 0.],\n",
       "       [0., 0., 0., 0., 0., 0.],\n",
       "       [0., 0., 0., 0., 0., 0.],\n",
       "       [0., 0., 0., 0., 0., 0.],\n",
       "       [1., 1., 1., 1., 1., 1.]])"
      ]
     },
     "execution_count": 39,
     "metadata": {},
     "output_type": "execute_result"
    }
   ],
   "source": [
    "arr2 = np.zeros((6, 6))\n",
    "arr2[[0, -1], :] = 1\n",
    "arr2"
   ]
  },
  {
   "cell_type": "code",
   "execution_count": 40,
   "id": "f738c4a9",
   "metadata": {},
   "outputs": [
    {
     "name": "stdout",
     "output_type": "stream",
     "text": [
      "[100  20 -33  44  90  35 -22]\n",
      "[False False  True False False False  True]\n",
      "[-33 -22]\n",
      "[ True  True False  True  True  True False]\n",
      "[100  20  44  90  35]\n"
     ]
    }
   ],
   "source": [
    "arr1 = np.array([100, 20, -33, 44, 90, 35, -22])\n",
    "print(arr1)\n",
    "print(arr1 < 0)  # returns a boolean nd-array\n",
    "print(arr1[arr1 < 0])\n",
    "print(~(arr1 < 0))\n",
    "print(arr1[~(arr1 < 0)])"
   ]
  },
  {
   "cell_type": "code",
   "execution_count": 41,
   "id": "24d7259a",
   "metadata": {},
   "outputs": [
    {
     "name": "stdout",
     "output_type": "stream",
     "text": [
      "[100  20 -33  44  90  35 -22]\n",
      "[False False  True False False  True False]\n",
      "[100  20  44  90 -22]\n",
      "[-33  35]\n"
     ]
    }
   ],
   "source": [
    "arr1 = np.array([100, 20, -33, 44, 90, 35, -22])\n",
    "print(arr1)\n",
    "print(arr1 % 2 == True)\n",
    "print(arr1[arr1 % 2 == 0])  # retrieving even numbers\n",
    "print(arr1[~(arr1 % 2 == 0)]) # retrieving odd numbers"
   ]
  },
  {
   "cell_type": "code",
   "execution_count": 42,
   "id": "e7cc3c0e",
   "metadata": {},
   "outputs": [
    {
     "name": "stdout",
     "output_type": "stream",
     "text": [
      "[100  20 -33  44  90  35 -22]\n",
      "[False  True False  True False  True False]\n",
      "[20 44 35]\n",
      "2.3.2\n",
      "56\n"
     ]
    }
   ],
   "source": [
    "arr1 = np.array([100, 20, -33, 44, 90, 35, -22])\n",
    "print(arr1)\n",
    "print((arr1 >= 20) & (arr1 <= 50))\n",
    "print(arr1[(arr1 >= 20) & (arr1 <= 50)])\n",
    "print(np.__version__)\n",
    "print(arr1.nbytes)"
   ]
  },
  {
   "cell_type": "code",
   "execution_count": 43,
   "id": "0384a0b1",
   "metadata": {},
   "outputs": [
    {
     "name": "stdout",
     "output_type": "stream",
     "text": [
      "[False False False False False False]\n",
      "[ True False False  True False False]\n",
      "['pat' 'tom' 'jim' 'john']\n",
      "['tim' 'pat' 'tom' 'tim' 'jim' 'john']\n"
     ]
    }
   ],
   "source": [
    "arr1 = np.array(['bob','pat','tom','bob','jim','john'])\n",
    "print(arr1 == 'BOB')\n",
    "print(arr1 == 'bob')\n",
    "print(arr1[arr1 != 'bob'])\n",
    "arr1[arr1 == 'bob'] = 'tim'\n",
    "print(arr1)"
   ]
  },
  {
   "cell_type": "code",
   "execution_count": 44,
   "id": "6eba3b38",
   "metadata": {},
   "outputs": [
    {
     "name": "stdout",
     "output_type": "stream",
     "text": [
      "[0.         1.         1.41421356 1.73205081 2.         2.23606798]\n",
      "[0.  1.  1.4 1.7 2.  2.2] [0.     1.     1.4142 1.7321 2.     2.2361]\n",
      "[0. 1. 2. 2. 2. 3.]\n",
      "[0. 1. 1. 1. 2. 2.]\n"
     ]
    }
   ],
   "source": [
    "nums = np.arange(6)\n",
    "nums_sqrt = np.sqrt(nums)\n",
    "print(nums_sqrt)\n",
    "print(np.round(nums_sqrt,1), np.round(nums_sqrt, 4))\n",
    "print(np.ceil(nums_sqrt))\n",
    "print(np.floor(nums_sqrt))"
   ]
  },
  {
   "cell_type": "code",
   "execution_count": 45,
   "id": "441da200",
   "metadata": {},
   "outputs": [
    {
     "name": "stdout",
     "output_type": "stream",
     "text": [
      "[ 0.06151301  0.07698787  0.55558586 -2.23071584 -1.66951652 -0.25410619\n",
      "  0.89954834  0.21893039 -0.75764457  1.28502679]\n",
      "-0.1814390853565984 1.0440100878605167\n"
     ]
    }
   ],
   "source": [
    "# dealing with random numbers\n",
    "nums = np.random.randn(10)\n",
    "print(nums)\n",
    "print(np.average(nums), np.std(nums))"
   ]
  },
  {
   "cell_type": "code",
   "execution_count": 46,
   "id": "2d40b328",
   "metadata": {},
   "outputs": [
    {
     "name": "stdout",
     "output_type": "stream",
     "text": [
      "[ 0.07552923  0.24664122 -0.63464044  0.21989333 -0.04627843 -2.17766901\n",
      " -1.11731968  0.01537892  0.81099737 -2.33097613]\n",
      "-0.00027537374768788836 0.9986526219111995\n"
     ]
    }
   ],
   "source": [
    "nums = np.random.randn(500000)\n",
    "print(nums[:10])\n",
    "print(np.average(nums), np.std(nums))"
   ]
  },
  {
   "cell_type": "code",
   "execution_count": 47,
   "id": "86a4e6b5",
   "metadata": {},
   "outputs": [
    {
     "name": "stdout",
     "output_type": "stream",
     "text": [
      "[ 1.3315865   0.71527897 -1.54540029 -0.00838385  0.62133597 -0.72008556\n",
      "  0.26551159  0.10854853  0.00429143 -0.17460021]\n"
     ]
    }
   ],
   "source": [
    "np.random.seed(10)\n",
    "print(np.random.randn(10))"
   ]
  },
  {
   "cell_type": "code",
   "execution_count": 48,
   "id": "09576270",
   "metadata": {},
   "outputs": [
    {
     "name": "stdout",
     "output_type": "stream",
     "text": [
      "[3 2 1 0 4 1 3 3 1 4 1 4 1 1 4 3 2 0 3 4]\n"
     ]
    }
   ],
   "source": [
    "print(np.random.randint(0, 5, 20))"
   ]
  },
  {
   "cell_type": "code",
   "execution_count": 49,
   "id": "becc87c7",
   "metadata": {},
   "outputs": [
    {
     "name": "stdout",
     "output_type": "stream",
     "text": [
      "3.8306448080185502\n",
      "3.8306448080185502\n",
      "3.8306448080185502\n"
     ]
    }
   ],
   "source": [
    "pt1 = np.random.randn(10)\n",
    "pt2 = np.random.randn(10)\n",
    "e_dist = 0\n",
    "for i in range(len(pt1)):\n",
    "    e_dist += (pt1[i] - pt2[i]) ** 2\n",
    "print(e_dist ** 0.5)\n",
    "print(np.sqrt(np.sum((pt1 - pt2) ** 2)))\n",
    "print(np.sqrt(np.sum(pow(np.subtract(pt1, pt2), 2))))"
   ]
  },
  {
   "cell_type": "code",
   "execution_count": 50,
   "id": "1b24ee46",
   "metadata": {},
   "outputs": [
    {
     "name": "stdout",
     "output_type": "stream",
     "text": [
      "[[ 0  0  0]\n",
      " [10 10 10]\n",
      " [20 20 20]\n",
      " [30 30 30]] (4, 3)\n",
      "[[ 0]\n",
      " [10]\n",
      " [20]\n",
      " [30]] (4, 1)\n",
      "[[0 1 2]\n",
      " [0 1 2]\n",
      " [0 1 2]\n",
      " [0 1 2]] (4, 3)\n",
      "[0 1 2] (3,)\n"
     ]
    }
   ],
   "source": [
    "a1 = np.array([[  0,  0,  0],\n",
    "               [ 10, 10, 10],\n",
    "               [ 20, 20, 20],\n",
    "               [ 30, 30, 30]])\n",
    "a2 = np.array([[0],[10],[20],[30]])\n",
    "b1 = np.array([[  0,  1,  2],\n",
    "               [  0,  1,  2],\n",
    "               [  0,  1,  2],\n",
    "               [  0,  1,  2]])\n",
    "b2 = np.array([0, 1, 2])\n",
    "print(a1, a1.shape)\n",
    "print(a2, a2.shape)\n",
    "print(b1, b1.shape)\n",
    "print(b2, b2.shape)"
   ]
  },
  {
   "cell_type": "code",
   "execution_count": 51,
   "id": "6e38e596",
   "metadata": {},
   "outputs": [
    {
     "name": "stdout",
     "output_type": "stream",
     "text": [
      "[[ 0  1  2]\n",
      " [10 11 12]\n",
      " [20 21 22]\n",
      " [30 31 32]]\n",
      "[[ 0  1  2]\n",
      " [10 11 12]\n",
      " [20 21 22]\n",
      " [30 31 32]]\n",
      "[[ 0  1  2]\n",
      " [10 11 12]\n",
      " [20 21 22]\n",
      " [30 31 32]]\n",
      "[[ 0  1  2]\n",
      " [10 11 12]\n",
      " [20 21 22]\n",
      " [30 31 32]]\n"
     ]
    }
   ],
   "source": [
    "print(a1 + b1)\n",
    "print(a1 + b2)\n",
    "print(a2 + b1)\n",
    "print(a2 + b2)"
   ]
  },
  {
   "cell_type": "code",
   "execution_count": 52,
   "id": "974c7bb2",
   "metadata": {},
   "outputs": [
    {
     "name": "stdout",
     "output_type": "stream",
     "text": [
      "[[ 0  1  2]\n",
      " [10 11 12]\n",
      " [20 21 22]\n",
      " [30 31 32]]\n",
      "[[ 0  1  2]\n",
      " [10 11 12]\n",
      " [20 21 22]\n",
      " [30 31 32]]\n",
      "[[ 0  1  2]\n",
      " [10 11 12]\n",
      " [20 21 22]\n",
      " [30 31 32]]\n",
      "[[ 0  1  2]\n",
      " [10 11 12]\n",
      " [20 21 22]\n",
      " [30 31 32]]\n"
     ]
    }
   ],
   "source": [
    "print(np.add(a1, b1))\n",
    "print(np.add(a1, b2))\n",
    "print(np.add(a2, b1))\n",
    "print(np.add(a2, b2))"
   ]
  }
 ],
 "metadata": {
  "kernelspec": {
   "display_name": "Python 3",
   "language": "python",
   "name": "python3"
  },
  "language_info": {
   "codemirror_mode": {
    "name": "ipython",
    "version": 3
   },
   "file_extension": ".py",
   "mimetype": "text/x-python",
   "name": "python",
   "nbconvert_exporter": "python",
   "pygments_lexer": "ipython3",
   "version": "3.13.2"
  }
 },
 "nbformat": 4,
 "nbformat_minor": 5
}
