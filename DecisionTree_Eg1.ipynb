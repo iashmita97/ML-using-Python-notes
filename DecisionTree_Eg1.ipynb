{
 "cells": [
  {
   "cell_type": "markdown",
   "metadata": {},
   "source": [
    "## **Decision Tree Classifier**"
   ]
  },
  {
   "cell_type": "markdown",
   "metadata": {},
   "source": [
    "### Bagging\n",
    "**Bagging attempts to reduce the chance overfitting complex models.**\n",
    "* It trains a large number of \"strong\" learners in parallel.\n",
    "* A strong learner is a model that's relatively unconstrained.\n",
    "* Bagging then combines all the strong learners together in order to \"smooth out\" their predictions.\n",
    "\n",
    "### Boosting\n",
    "**Boosting attempts to improve the predictive flexibility of simple models.**\n",
    "* It trains a large number of \"weak\" learners in sequence.\n",
    "* A weak learner is a constrained model (i.e., you could limit the max depth of each decision tree).\n",
    "* Each one in the sequence focuses on learning from the mistakes of the one before it.\n",
    "* Boosting then combines all the weak learners into a single strong learner."
   ]
  },
  {
   "cell_type": "markdown",
   "metadata": {},
   "source": [
    "### Random Forest Classifcation Trees\n",
    "> **Is Random Forest an example of bagging or boosting?<br>**\n",
    "Random Forest is an example of the bagging (Bootstrap Aggregating) technique, which is a type of ensemble learning method used in machine learning. In bagging, multiple models are trained on different subsets of the training data, and their predictions are aggregated to produce the final prediction.\n",
    "\n",
    "> In the case of Random Forest, the base models are decision trees, and the subsets of training data are created by randomly sampling with replacement from the original training data (known as bootstrap sampling). Each tree is trained independently on a different subset of the data and with a random subset of features. The final prediction is made by aggregating the predictions of all the trees in the forest, typically using majority voting in the case of classification or averaging in the case of regression.\n",
    "\n",
    "> The goal of bagging is to reduce the variance (i.e., overfitting) of individual models by combining multiple models with different sources of randomness. Random Forest is a popular and effective method that uses bagging to improve the accuracy and generalization of decision trees, which can be prone to overfitting on noisy or complex datasets.\n",
    "\n",
    "**Random forests train a large number of “strong” decision trees and combine their predictions through bagging. In addition, there are two sources of “randomness” for random forests:**\n",
    "* Each tree is only allowed to choose from a random subset of features to split on (leading to feature selection).\n",
    "* Each tree is only trained on a random subset of observations (a process called resampling).\n",
    "* In practice, random forests tend to perform very well right out of the box. They often beat many other models that take up to weeks to develop. They don’t have many complicated parameters to tune, making them the perfect “swiss-army-knife” algorithm that almost always gets good results."
   ]
  },
  {
   "cell_type": "markdown",
   "metadata": {},
   "source": [
    "### Boosted Trees\n",
    "**Boosted trees train a sequence of “weak”, constrained decision trees and combine their predictions through boosting.**\n",
    "* Each tree is allowed a maximum depth, which should be tuned.\n",
    "* Each tree in the sequence tries to correct the prediction errors of the one before it.\n",
    "* In practice, boosted trees tend to have the highest performance ceilings. They often beat many other types of models after proper tuning, but they are more complicated to tune than random forests."
   ]
  },
  {
   "cell_type": "markdown",
   "metadata": {},
   "source": [
    "### What is Gini Index?\n",
    "> Gini index is a measure of impurity used in decision tree algorithms to evaluate the quality of a split. It is a metric that indicates how often a randomly chosen element from the set would be incorrectly classified if it were randomly labeled according to the distribution of labels in the subset.\n",
    "\n",
    "> In the context of decision trees, Gini index is used to evaluate the quality of a split by calculating the Gini impurity of the subset of data that would result from the split. The Gini impurity measures the degree of impurity or randomness of a set of labels. A Gini impurity of 0 means that all the elements in the set belong to the same class, while a Gini impurity of 1 means that the elements are evenly distributed across all the classes.\n",
    "\n",
    "> To calculate the Gini index for a given split, we first compute the Gini impurity of each resulting subset of data. Then, we calculate the weighted sum of the Gini impurities of the subsets based on their size. The formula for calculating the Gini index of a split is:\n",
    "\n",
    "> **Gini Index = 1 - ∑ (p_i)^2**<br>\n",
    "> where p_i is the proportion of elements in the i-th subset.\n",
    "\n",
    "> The Gini index ranges from 0 to 1, where a Gini index of 0 means that the split is perfect (all the elements belong to the same class), while a Gini index of 1 means that the split is completely random (the elements are evenly distributed across all the classes). In practice, decision tree algorithms typically select the split that results in the lowest Gini index as the best split."
   ]
  },
  {
   "cell_type": "markdown",
   "metadata": {},
   "source": [
    "<b>Reading Data</b>"
   ]
  },
  {
   "cell_type": "code",
   "execution_count": 29,
   "metadata": {},
   "outputs": [
    {
     "name": "stderr",
     "output_type": "stream",
     "text": [
      "<>:3: SyntaxWarning: invalid escape sequence '\\d'\n",
      "<>:3: SyntaxWarning: invalid escape sequence '\\d'\n",
      "C:\\Users\\arnab\\AppData\\Local\\Temp\\ipykernel_23736\\2210870207.py:3: SyntaxWarning: invalid escape sequence '\\d'\n",
      "  binary = pd.read_csv('E:\\datafile\\dt_data.csv')\n"
     ]
    },
    {
     "data": {
      "text/html": [
       "<div>\n",
       "<style scoped>\n",
       "    .dataframe tbody tr th:only-of-type {\n",
       "        vertical-align: middle;\n",
       "    }\n",
       "\n",
       "    .dataframe tbody tr th {\n",
       "        vertical-align: top;\n",
       "    }\n",
       "\n",
       "    .dataframe thead th {\n",
       "        text-align: right;\n",
       "    }\n",
       "</style>\n",
       "<table border=\"1\" class=\"dataframe\">\n",
       "  <thead>\n",
       "    <tr style=\"text-align: right;\">\n",
       "      <th></th>\n",
       "      <th>Card_Cust_ID</th>\n",
       "      <th>Gender</th>\n",
       "      <th>Education_level</th>\n",
       "      <th>Unnamed: 3</th>\n",
       "      <th>Last_Month_spend</th>\n",
       "      <th>Last_3m_avg_spend</th>\n",
       "      <th>Spend_Drop_over50pct</th>\n",
       "    </tr>\n",
       "  </thead>\n",
       "  <tbody>\n",
       "    <tr>\n",
       "      <th>0</th>\n",
       "      <td>1000001</td>\n",
       "      <td>F</td>\n",
       "      <td>University</td>\n",
       "      <td>NaN</td>\n",
       "      <td>160</td>\n",
       "      <td>200</td>\n",
       "      <td>1</td>\n",
       "    </tr>\n",
       "    <tr>\n",
       "      <th>1</th>\n",
       "      <td>1000002</td>\n",
       "      <td>F</td>\n",
       "      <td>University</td>\n",
       "      <td>NaN</td>\n",
       "      <td>250</td>\n",
       "      <td>190</td>\n",
       "      <td>0</td>\n",
       "    </tr>\n",
       "    <tr>\n",
       "      <th>2</th>\n",
       "      <td>1000003</td>\n",
       "      <td>F</td>\n",
       "      <td>University</td>\n",
       "      <td>NaN</td>\n",
       "      <td>470</td>\n",
       "      <td>530</td>\n",
       "      <td>0</td>\n",
       "    </tr>\n",
       "    <tr>\n",
       "      <th>3</th>\n",
       "      <td>1000004</td>\n",
       "      <td>F</td>\n",
       "      <td>University</td>\n",
       "      <td>NaN</td>\n",
       "      <td>830</td>\n",
       "      <td>800</td>\n",
       "      <td>0</td>\n",
       "    </tr>\n",
       "    <tr>\n",
       "      <th>4</th>\n",
       "      <td>1000005</td>\n",
       "      <td>M</td>\n",
       "      <td>University</td>\n",
       "      <td>NaN</td>\n",
       "      <td>750</td>\n",
       "      <td>480</td>\n",
       "      <td>0</td>\n",
       "    </tr>\n",
       "  </tbody>\n",
       "</table>\n",
       "</div>"
      ],
      "text/plain": [
       "   Card_Cust_ID Gender Education_level  Unnamed: 3  Last_Month_spend  \\\n",
       "0       1000001      F      University         NaN               160   \n",
       "1       1000002      F      University         NaN               250   \n",
       "2       1000003      F      University         NaN               470   \n",
       "3       1000004      F      University         NaN               830   \n",
       "4       1000005      M      University         NaN               750   \n",
       "\n",
       "   Last_3m_avg_spend  Spend_Drop_over50pct  \n",
       "0                200                     1  \n",
       "1                190                     0  \n",
       "2                530                     0  \n",
       "3                800                     0  \n",
       "4                480                     0  "
      ]
     },
     "execution_count": 29,
     "metadata": {},
     "output_type": "execute_result"
    }
   ],
   "source": [
    "# Read data from \n",
    "import pandas as pd\n",
    "binary = pd.read_csv('E:\\datafile\\dt_data.csv')\n",
    "binary.head()"
   ]
  },
  {
   "cell_type": "code",
   "execution_count": 30,
   "metadata": {},
   "outputs": [
    {
     "data": {
      "text/plain": [
       "(475, 7)"
      ]
     },
     "execution_count": 30,
     "metadata": {},
     "output_type": "execute_result"
    }
   ],
   "source": [
    "binary.shape"
   ]
  },
  {
   "cell_type": "markdown",
   "metadata": {},
   "source": [
    "<b>Explore Data</b>"
   ]
  },
  {
   "cell_type": "code",
   "execution_count": 31,
   "metadata": {},
   "outputs": [
    {
     "data": {
      "text/html": [
       "<div>\n",
       "<style scoped>\n",
       "    .dataframe tbody tr th:only-of-type {\n",
       "        vertical-align: middle;\n",
       "    }\n",
       "\n",
       "    .dataframe tbody tr th {\n",
       "        vertical-align: top;\n",
       "    }\n",
       "\n",
       "    .dataframe thead th {\n",
       "        text-align: right;\n",
       "    }\n",
       "</style>\n",
       "<table border=\"1\" class=\"dataframe\">\n",
       "  <thead>\n",
       "    <tr style=\"text-align: right;\">\n",
       "      <th></th>\n",
       "      <th>Card_Cust_ID</th>\n",
       "      <th>Unnamed: 3</th>\n",
       "      <th>Last_Month_spend</th>\n",
       "      <th>Last_3m_avg_spend</th>\n",
       "      <th>Spend_Drop_over50pct</th>\n",
       "    </tr>\n",
       "  </thead>\n",
       "  <tbody>\n",
       "    <tr>\n",
       "      <th>count</th>\n",
       "      <td>4.750000e+02</td>\n",
       "      <td>0.0</td>\n",
       "      <td>475.000000</td>\n",
       "      <td>475.000000</td>\n",
       "      <td>475.000000</td>\n",
       "    </tr>\n",
       "    <tr>\n",
       "      <th>mean</th>\n",
       "      <td>1.002555e+06</td>\n",
       "      <td>NaN</td>\n",
       "      <td>602.147368</td>\n",
       "      <td>602.042105</td>\n",
       "      <td>0.263158</td>\n",
       "    </tr>\n",
       "    <tr>\n",
       "      <th>std</th>\n",
       "      <td>4.481438e+03</td>\n",
       "      <td>NaN</td>\n",
       "      <td>343.098348</td>\n",
       "      <td>343.130657</td>\n",
       "      <td>0.440812</td>\n",
       "    </tr>\n",
       "    <tr>\n",
       "      <th>min</th>\n",
       "      <td>1.000001e+06</td>\n",
       "      <td>NaN</td>\n",
       "      <td>10.000000</td>\n",
       "      <td>10.000000</td>\n",
       "      <td>0.000000</td>\n",
       "    </tr>\n",
       "    <tr>\n",
       "      <th>25%</th>\n",
       "      <td>1.000130e+06</td>\n",
       "      <td>NaN</td>\n",
       "      <td>310.000000</td>\n",
       "      <td>305.000000</td>\n",
       "      <td>0.000000</td>\n",
       "    </tr>\n",
       "    <tr>\n",
       "      <th>50%</th>\n",
       "      <td>1.000253e+06</td>\n",
       "      <td>NaN</td>\n",
       "      <td>600.000000</td>\n",
       "      <td>600.000000</td>\n",
       "      <td>0.000000</td>\n",
       "    </tr>\n",
       "    <tr>\n",
       "      <th>75%</th>\n",
       "      <td>1.000382e+06</td>\n",
       "      <td>NaN</td>\n",
       "      <td>900.000000</td>\n",
       "      <td>900.000000</td>\n",
       "      <td>1.000000</td>\n",
       "    </tr>\n",
       "    <tr>\n",
       "      <th>max</th>\n",
       "      <td>1.011114e+06</td>\n",
       "      <td>NaN</td>\n",
       "      <td>1190.000000</td>\n",
       "      <td>1200.000000</td>\n",
       "      <td>1.000000</td>\n",
       "    </tr>\n",
       "  </tbody>\n",
       "</table>\n",
       "</div>"
      ],
      "text/plain": [
       "       Card_Cust_ID  Unnamed: 3  Last_Month_spend  Last_3m_avg_spend  \\\n",
       "count  4.750000e+02         0.0        475.000000         475.000000   \n",
       "mean   1.002555e+06         NaN        602.147368         602.042105   \n",
       "std    4.481438e+03         NaN        343.098348         343.130657   \n",
       "min    1.000001e+06         NaN         10.000000          10.000000   \n",
       "25%    1.000130e+06         NaN        310.000000         305.000000   \n",
       "50%    1.000253e+06         NaN        600.000000         600.000000   \n",
       "75%    1.000382e+06         NaN        900.000000         900.000000   \n",
       "max    1.011114e+06         NaN       1190.000000        1200.000000   \n",
       "\n",
       "       Spend_Drop_over50pct  \n",
       "count            475.000000  \n",
       "mean               0.263158  \n",
       "std                0.440812  \n",
       "min                0.000000  \n",
       "25%                0.000000  \n",
       "50%                0.000000  \n",
       "75%                1.000000  \n",
       "max                1.000000  "
      ]
     },
     "execution_count": 31,
     "metadata": {},
     "output_type": "execute_result"
    }
   ],
   "source": [
    "# Describe a data frame in Python - summary statistics of all the variables\n",
    "binary.describe()"
   ]
  },
  {
   "cell_type": "code",
   "execution_count": 32,
   "metadata": {},
   "outputs": [
    {
     "data": {
      "text/plain": [
       "Index(['Card_Cust_ID', 'Gender', 'Education_level', 'Unnamed: 3',\n",
       "       'Last_Month_spend', 'Last_3m_avg_spend', 'Spend_Drop_over50pct'],\n",
       "      dtype='object')"
      ]
     },
     "execution_count": 32,
     "metadata": {},
     "output_type": "execute_result"
    }
   ],
   "source": [
    "# Columns\n",
    "binary.dtypes.index"
   ]
  },
  {
   "cell_type": "code",
   "execution_count": 33,
   "metadata": {},
   "outputs": [
    {
     "data": {
      "text/plain": [
       "Index(['Card_Cust_ID', 'Gender', 'Education_level', 'Last_Month_spend',\n",
       "       'Last_3m_avg_spend', 'Spend_Drop_over50pct'],\n",
       "      dtype='object')"
      ]
     },
     "execution_count": 33,
     "metadata": {},
     "output_type": "execute_result"
    }
   ],
   "source": [
    "# Drop a column\n",
    "binary.drop('Unnamed: 3', axis = 1, inplace = True)\n",
    "\n",
    "binary.dtypes.index"
   ]
  },
  {
   "cell_type": "code",
   "execution_count": 34,
   "metadata": {},
   "outputs": [
    {
     "data": {
      "text/html": [
       "<div>\n",
       "<style scoped>\n",
       "    .dataframe tbody tr th:only-of-type {\n",
       "        vertical-align: middle;\n",
       "    }\n",
       "\n",
       "    .dataframe tbody tr th {\n",
       "        vertical-align: top;\n",
       "    }\n",
       "\n",
       "    .dataframe thead th {\n",
       "        text-align: right;\n",
       "    }\n",
       "</style>\n",
       "<table border=\"1\" class=\"dataframe\">\n",
       "  <thead>\n",
       "    <tr style=\"text-align: right;\">\n",
       "      <th></th>\n",
       "      <th>Card_Cust_ID</th>\n",
       "      <th>Gender</th>\n",
       "      <th>Education_level</th>\n",
       "      <th>Last_Month_spend</th>\n",
       "      <th>Last_3m_avg_spend</th>\n",
       "      <th>Spend_Drop_over50pct</th>\n",
       "    </tr>\n",
       "  </thead>\n",
       "  <tbody>\n",
       "    <tr>\n",
       "      <th>0</th>\n",
       "      <td>1000001</td>\n",
       "      <td>F</td>\n",
       "      <td>University</td>\n",
       "      <td>160</td>\n",
       "      <td>200</td>\n",
       "      <td>1</td>\n",
       "    </tr>\n",
       "    <tr>\n",
       "      <th>1</th>\n",
       "      <td>1000002</td>\n",
       "      <td>F</td>\n",
       "      <td>University</td>\n",
       "      <td>250</td>\n",
       "      <td>190</td>\n",
       "      <td>0</td>\n",
       "    </tr>\n",
       "    <tr>\n",
       "      <th>2</th>\n",
       "      <td>1000003</td>\n",
       "      <td>F</td>\n",
       "      <td>University</td>\n",
       "      <td>470</td>\n",
       "      <td>530</td>\n",
       "      <td>0</td>\n",
       "    </tr>\n",
       "    <tr>\n",
       "      <th>3</th>\n",
       "      <td>1000004</td>\n",
       "      <td>F</td>\n",
       "      <td>University</td>\n",
       "      <td>830</td>\n",
       "      <td>800</td>\n",
       "      <td>0</td>\n",
       "    </tr>\n",
       "    <tr>\n",
       "      <th>4</th>\n",
       "      <td>1000005</td>\n",
       "      <td>M</td>\n",
       "      <td>University</td>\n",
       "      <td>750</td>\n",
       "      <td>480</td>\n",
       "      <td>0</td>\n",
       "    </tr>\n",
       "  </tbody>\n",
       "</table>\n",
       "</div>"
      ],
      "text/plain": [
       "   Card_Cust_ID Gender Education_level  Last_Month_spend  Last_3m_avg_spend  \\\n",
       "0       1000001      F      University               160                200   \n",
       "1       1000002      F      University               250                190   \n",
       "2       1000003      F      University               470                530   \n",
       "3       1000004      F      University               830                800   \n",
       "4       1000005      M      University               750                480   \n",
       "\n",
       "   Spend_Drop_over50pct  \n",
       "0                     1  \n",
       "1                     0  \n",
       "2                     0  \n",
       "3                     0  \n",
       "4                     0  "
      ]
     },
     "execution_count": 34,
     "metadata": {},
     "output_type": "execute_result"
    }
   ],
   "source": [
    "binary.head()"
   ]
  },
  {
   "cell_type": "code",
   "execution_count": 35,
   "metadata": {},
   "outputs": [
    {
     "name": "stderr",
     "output_type": "stream",
     "text": [
      "C:\\Users\\arnab\\AppData\\Local\\Temp\\ipykernel_23736\\1486572680.py:2: FutureWarning: A value is trying to be set on a copy of a DataFrame or Series through chained assignment using an inplace method.\n",
      "The behavior will change in pandas 3.0. This inplace method will never work because the intermediate object on which we are setting values always behaves as a copy.\n",
      "\n",
      "For example, when doing 'df[col].method(value, inplace=True)', try using 'df.method({col: value}, inplace=True)' or df[col] = df[col].method(value) instead, to perform the operation inplace on the original object.\n",
      "\n",
      "\n",
      "  binary.Spend_Drop_over50pct.replace([0, 1], ['A', 'B'], inplace=True)\n"
     ]
    },
    {
     "data": {
      "text/html": [
       "<div>\n",
       "<style scoped>\n",
       "    .dataframe tbody tr th:only-of-type {\n",
       "        vertical-align: middle;\n",
       "    }\n",
       "\n",
       "    .dataframe tbody tr th {\n",
       "        vertical-align: top;\n",
       "    }\n",
       "\n",
       "    .dataframe thead th {\n",
       "        text-align: right;\n",
       "    }\n",
       "</style>\n",
       "<table border=\"1\" class=\"dataframe\">\n",
       "  <thead>\n",
       "    <tr style=\"text-align: right;\">\n",
       "      <th></th>\n",
       "      <th>Card_Cust_ID</th>\n",
       "      <th>Gender</th>\n",
       "      <th>Education_level</th>\n",
       "      <th>Last_Month_spend</th>\n",
       "      <th>Last_3m_avg_spend</th>\n",
       "      <th>Spend_Drop_over50pct</th>\n",
       "    </tr>\n",
       "  </thead>\n",
       "  <tbody>\n",
       "    <tr>\n",
       "      <th>0</th>\n",
       "      <td>1000001</td>\n",
       "      <td>F</td>\n",
       "      <td>University</td>\n",
       "      <td>160</td>\n",
       "      <td>200</td>\n",
       "      <td>B</td>\n",
       "    </tr>\n",
       "    <tr>\n",
       "      <th>1</th>\n",
       "      <td>1000002</td>\n",
       "      <td>F</td>\n",
       "      <td>University</td>\n",
       "      <td>250</td>\n",
       "      <td>190</td>\n",
       "      <td>A</td>\n",
       "    </tr>\n",
       "    <tr>\n",
       "      <th>2</th>\n",
       "      <td>1000003</td>\n",
       "      <td>F</td>\n",
       "      <td>University</td>\n",
       "      <td>470</td>\n",
       "      <td>530</td>\n",
       "      <td>A</td>\n",
       "    </tr>\n",
       "    <tr>\n",
       "      <th>3</th>\n",
       "      <td>1000004</td>\n",
       "      <td>F</td>\n",
       "      <td>University</td>\n",
       "      <td>830</td>\n",
       "      <td>800</td>\n",
       "      <td>A</td>\n",
       "    </tr>\n",
       "    <tr>\n",
       "      <th>4</th>\n",
       "      <td>1000005</td>\n",
       "      <td>M</td>\n",
       "      <td>University</td>\n",
       "      <td>750</td>\n",
       "      <td>480</td>\n",
       "      <td>A</td>\n",
       "    </tr>\n",
       "  </tbody>\n",
       "</table>\n",
       "</div>"
      ],
      "text/plain": [
       "   Card_Cust_ID Gender Education_level  Last_Month_spend  Last_3m_avg_spend  \\\n",
       "0       1000001      F      University               160                200   \n",
       "1       1000002      F      University               250                190   \n",
       "2       1000003      F      University               470                530   \n",
       "3       1000004      F      University               830                800   \n",
       "4       1000005      M      University               750                480   \n",
       "\n",
       "  Spend_Drop_over50pct  \n",
       "0                    B  \n",
       "1                    A  \n",
       "2                    A  \n",
       "3                    A  \n",
       "4                    A  "
      ]
     },
     "execution_count": 35,
     "metadata": {},
     "output_type": "execute_result"
    }
   ],
   "source": [
    "# Target Variable to be made {-1, 1}\n",
    "binary.Spend_Drop_over50pct.replace([0, 1], ['A', 'B'], inplace=True)\n",
    " \n",
    "# Print a few rows\n",
    "binary.head()"
   ]
  },
  {
   "cell_type": "code",
   "execution_count": 36,
   "metadata": {},
   "outputs": [
    {
     "data": {
      "text/plain": [
       "Spend_Drop_over50pct\n",
       "A    350\n",
       "B    125\n",
       "Name: count, dtype: int64"
      ]
     },
     "execution_count": 36,
     "metadata": {},
     "output_type": "execute_result"
    }
   ],
   "source": [
    "# Count Target Variable Values\n",
    "binary.Spend_Drop_over50pct.value_counts()"
   ]
  },
  {
   "cell_type": "code",
   "execution_count": 37,
   "metadata": {},
   "outputs": [
    {
     "data": {
      "text/plain": [
       "Spend_Drop_over50pct\n",
       "A    73.68\n",
       "B    26.32\n",
       "Name: count, dtype: float64"
      ]
     },
     "execution_count": 37,
     "metadata": {},
     "output_type": "execute_result"
    }
   ],
   "source": [
    "# Find % Values of Target Variable Levels\n",
    "round(binary.Spend_Drop_over50pct.value_counts()*100/len(binary.axes[0]),2)"
   ]
  },
  {
   "cell_type": "code",
   "execution_count": 38,
   "metadata": {},
   "outputs": [
    {
     "data": {
      "text/plain": [
       "475"
      ]
     },
     "execution_count": 38,
     "metadata": {},
     "output_type": "execute_result"
    }
   ],
   "source": [
    "len(binary.axes[0])"
   ]
  },
  {
   "cell_type": "markdown",
   "metadata": {},
   "source": [
    "<b>Test and Train Sample</b>"
   ]
  },
  {
   "cell_type": "markdown",
   "metadata": {},
   "source": [
    "Now, we have a data sample, which can be considered for the modeling. We are splitting the data into Test Sample (which will be used for validating the model developed) and Train Sample (which will be used for Model development)."
   ]
  },
  {
   "cell_type": "code",
   "execution_count": 39,
   "metadata": {},
   "outputs": [
    {
     "data": {
      "text/html": [
       "<div>\n",
       "<style scoped>\n",
       "    .dataframe tbody tr th:only-of-type {\n",
       "        vertical-align: middle;\n",
       "    }\n",
       "\n",
       "    .dataframe tbody tr th {\n",
       "        vertical-align: top;\n",
       "    }\n",
       "\n",
       "    .dataframe thead th {\n",
       "        text-align: right;\n",
       "    }\n",
       "</style>\n",
       "<table border=\"1\" class=\"dataframe\">\n",
       "  <thead>\n",
       "    <tr style=\"text-align: right;\">\n",
       "      <th></th>\n",
       "      <th>Card_Cust_ID</th>\n",
       "      <th>Gender</th>\n",
       "      <th>Education_level</th>\n",
       "      <th>Last_Month_spend</th>\n",
       "      <th>Last_3m_avg_spend</th>\n",
       "      <th>Spend_Drop_over50pct</th>\n",
       "    </tr>\n",
       "  </thead>\n",
       "  <tbody>\n",
       "    <tr>\n",
       "      <th>34</th>\n",
       "      <td>1000037</td>\n",
       "      <td>M</td>\n",
       "      <td>Graduate</td>\n",
       "      <td>20</td>\n",
       "      <td>30</td>\n",
       "      <td>B</td>\n",
       "    </tr>\n",
       "    <tr>\n",
       "      <th>335</th>\n",
       "      <td>1000361</td>\n",
       "      <td>M</td>\n",
       "      <td>University</td>\n",
       "      <td>790</td>\n",
       "      <td>780</td>\n",
       "      <td>A</td>\n",
       "    </tr>\n",
       "    <tr>\n",
       "      <th>439</th>\n",
       "      <td>1011077</td>\n",
       "      <td>M</td>\n",
       "      <td>High School</td>\n",
       "      <td>1190</td>\n",
       "      <td>1190</td>\n",
       "      <td>A</td>\n",
       "    </tr>\n",
       "    <tr>\n",
       "      <th>4</th>\n",
       "      <td>1000005</td>\n",
       "      <td>M</td>\n",
       "      <td>University</td>\n",
       "      <td>750</td>\n",
       "      <td>480</td>\n",
       "      <td>A</td>\n",
       "    </tr>\n",
       "    <tr>\n",
       "      <th>169</th>\n",
       "      <td>1000183</td>\n",
       "      <td>M</td>\n",
       "      <td>University</td>\n",
       "      <td>460</td>\n",
       "      <td>400</td>\n",
       "      <td>B</td>\n",
       "    </tr>\n",
       "  </tbody>\n",
       "</table>\n",
       "</div>"
      ],
      "text/plain": [
       "     Card_Cust_ID Gender Education_level  Last_Month_spend  Last_3m_avg_spend  \\\n",
       "34        1000037      M        Graduate                20                 30   \n",
       "335       1000361      M      University               790                780   \n",
       "439       1011077      M     High School              1190               1190   \n",
       "4         1000005      M      University               750                480   \n",
       "169       1000183      M      University               460                400   \n",
       "\n",
       "    Spend_Drop_over50pct  \n",
       "34                     B  \n",
       "335                    A  \n",
       "439                    A  \n",
       "4                      A  \n",
       "169                    B  "
      ]
     },
     "execution_count": 39,
     "metadata": {},
     "output_type": "execute_result"
    }
   ],
   "source": [
    "# Split sample into Train and Test\n",
    "from sklearn.model_selection import train_test_split\n",
    "Train, Test = train_test_split(binary, test_size = 0.3, random_state = 176)\n",
    "\n",
    "# Print a few rows\n",
    "Train.head()"
   ]
  },
  {
   "cell_type": "code",
   "execution_count": 40,
   "metadata": {},
   "outputs": [],
   "source": [
    "# Keep Target and Independent Variable into different array\n",
    "Train_IndepentVars = Train.values[:, 3:5]\n",
    "Train_TargetVar = Train.values[:,5]"
   ]
  },
  {
   "cell_type": "code",
   "execution_count": 41,
   "metadata": {},
   "outputs": [
    {
     "data": {
      "text/plain": [
       "array([[20, 30],\n",
       "       [790, 780],\n",
       "       [1190, 1190],\n",
       "       [750, 480],\n",
       "       [460, 400],\n",
       "       [20, 380],\n",
       "       [200, 70],\n",
       "       [190, 120],\n",
       "       [1090, 1080],\n",
       "       [100, 170]], dtype=object)"
      ]
     },
     "execution_count": 41,
     "metadata": {},
     "output_type": "execute_result"
    }
   ],
   "source": [
    "Train_IndepentVars[:10]"
   ]
  },
  {
   "cell_type": "code",
   "execution_count": 42,
   "metadata": {},
   "outputs": [
    {
     "data": {
      "text/plain": [
       "array(['B', 'A', 'A', 'A', 'B', 'B', 'A', 'A', 'A', 'B', 'A', 'A', 'A',\n",
       "       'A', 'A', 'A', 'A', 'A', 'A', 'B'], dtype=object)"
      ]
     },
     "execution_count": 42,
     "metadata": {},
     "output_type": "execute_result"
    }
   ],
   "source": [
    "Train_TargetVar[:20]"
   ]
  },
  {
   "cell_type": "code",
   "execution_count": 43,
   "metadata": {},
   "outputs": [
    {
     "name": "stdout",
     "output_type": "stream",
     "text": [
      "Total rows =  332\n",
      "Total A-rows =  243\n",
      "Total B-rows =  89\n"
     ]
    }
   ],
   "source": [
    "print (\"Total rows = \", len(Train_TargetVar))\n",
    "print (\"Total A-rows = \", (Train_TargetVar == 'A').sum())\n",
    "print (\"Total B-rows = \", (Train_TargetVar == 'B').sum())"
   ]
  },
  {
   "cell_type": "markdown",
   "metadata": {},
   "source": [
    "We have arrays for independent variables and the target variable. \n",
    "We can now build decision tree classifier. \n",
    "We are using DecisionTreeClassifier from sklearn library.  \n",
    "\"gini\" option helps in leveraging CART - \n",
    "Classification and Regression Tree - algorithm for fitting the decision tree."
   ]
  },
  {
   "cell_type": "code",
   "execution_count": 44,
   "metadata": {},
   "outputs": [
    {
     "data": {
      "text/html": [
       "<style>#sk-container-id-2 {\n",
       "  /* Definition of color scheme common for light and dark mode */\n",
       "  --sklearn-color-text: black;\n",
       "  --sklearn-color-line: gray;\n",
       "  /* Definition of color scheme for unfitted estimators */\n",
       "  --sklearn-color-unfitted-level-0: #fff5e6;\n",
       "  --sklearn-color-unfitted-level-1: #f6e4d2;\n",
       "  --sklearn-color-unfitted-level-2: #ffe0b3;\n",
       "  --sklearn-color-unfitted-level-3: chocolate;\n",
       "  /* Definition of color scheme for fitted estimators */\n",
       "  --sklearn-color-fitted-level-0: #f0f8ff;\n",
       "  --sklearn-color-fitted-level-1: #d4ebff;\n",
       "  --sklearn-color-fitted-level-2: #b3dbfd;\n",
       "  --sklearn-color-fitted-level-3: cornflowerblue;\n",
       "\n",
       "  /* Specific color for light theme */\n",
       "  --sklearn-color-text-on-default-background: var(--sg-text-color, var(--theme-code-foreground, var(--jp-content-font-color1, black)));\n",
       "  --sklearn-color-background: var(--sg-background-color, var(--theme-background, var(--jp-layout-color0, white)));\n",
       "  --sklearn-color-border-box: var(--sg-text-color, var(--theme-code-foreground, var(--jp-content-font-color1, black)));\n",
       "  --sklearn-color-icon: #696969;\n",
       "\n",
       "  @media (prefers-color-scheme: dark) {\n",
       "    /* Redefinition of color scheme for dark theme */\n",
       "    --sklearn-color-text-on-default-background: var(--sg-text-color, var(--theme-code-foreground, var(--jp-content-font-color1, white)));\n",
       "    --sklearn-color-background: var(--sg-background-color, var(--theme-background, var(--jp-layout-color0, #111)));\n",
       "    --sklearn-color-border-box: var(--sg-text-color, var(--theme-code-foreground, var(--jp-content-font-color1, white)));\n",
       "    --sklearn-color-icon: #878787;\n",
       "  }\n",
       "}\n",
       "\n",
       "#sk-container-id-2 {\n",
       "  color: var(--sklearn-color-text);\n",
       "}\n",
       "\n",
       "#sk-container-id-2 pre {\n",
       "  padding: 0;\n",
       "}\n",
       "\n",
       "#sk-container-id-2 input.sk-hidden--visually {\n",
       "  border: 0;\n",
       "  clip: rect(1px 1px 1px 1px);\n",
       "  clip: rect(1px, 1px, 1px, 1px);\n",
       "  height: 1px;\n",
       "  margin: -1px;\n",
       "  overflow: hidden;\n",
       "  padding: 0;\n",
       "  position: absolute;\n",
       "  width: 1px;\n",
       "}\n",
       "\n",
       "#sk-container-id-2 div.sk-dashed-wrapped {\n",
       "  border: 1px dashed var(--sklearn-color-line);\n",
       "  margin: 0 0.4em 0.5em 0.4em;\n",
       "  box-sizing: border-box;\n",
       "  padding-bottom: 0.4em;\n",
       "  background-color: var(--sklearn-color-background);\n",
       "}\n",
       "\n",
       "#sk-container-id-2 div.sk-container {\n",
       "  /* jupyter's `normalize.less` sets `[hidden] { display: none; }`\n",
       "     but bootstrap.min.css set `[hidden] { display: none !important; }`\n",
       "     so we also need the `!important` here to be able to override the\n",
       "     default hidden behavior on the sphinx rendered scikit-learn.org.\n",
       "     See: https://github.com/scikit-learn/scikit-learn/issues/21755 */\n",
       "  display: inline-block !important;\n",
       "  position: relative;\n",
       "}\n",
       "\n",
       "#sk-container-id-2 div.sk-text-repr-fallback {\n",
       "  display: none;\n",
       "}\n",
       "\n",
       "div.sk-parallel-item,\n",
       "div.sk-serial,\n",
       "div.sk-item {\n",
       "  /* draw centered vertical line to link estimators */\n",
       "  background-image: linear-gradient(var(--sklearn-color-text-on-default-background), var(--sklearn-color-text-on-default-background));\n",
       "  background-size: 2px 100%;\n",
       "  background-repeat: no-repeat;\n",
       "  background-position: center center;\n",
       "}\n",
       "\n",
       "/* Parallel-specific style estimator block */\n",
       "\n",
       "#sk-container-id-2 div.sk-parallel-item::after {\n",
       "  content: \"\";\n",
       "  width: 100%;\n",
       "  border-bottom: 2px solid var(--sklearn-color-text-on-default-background);\n",
       "  flex-grow: 1;\n",
       "}\n",
       "\n",
       "#sk-container-id-2 div.sk-parallel {\n",
       "  display: flex;\n",
       "  align-items: stretch;\n",
       "  justify-content: center;\n",
       "  background-color: var(--sklearn-color-background);\n",
       "  position: relative;\n",
       "}\n",
       "\n",
       "#sk-container-id-2 div.sk-parallel-item {\n",
       "  display: flex;\n",
       "  flex-direction: column;\n",
       "}\n",
       "\n",
       "#sk-container-id-2 div.sk-parallel-item:first-child::after {\n",
       "  align-self: flex-end;\n",
       "  width: 50%;\n",
       "}\n",
       "\n",
       "#sk-container-id-2 div.sk-parallel-item:last-child::after {\n",
       "  align-self: flex-start;\n",
       "  width: 50%;\n",
       "}\n",
       "\n",
       "#sk-container-id-2 div.sk-parallel-item:only-child::after {\n",
       "  width: 0;\n",
       "}\n",
       "\n",
       "/* Serial-specific style estimator block */\n",
       "\n",
       "#sk-container-id-2 div.sk-serial {\n",
       "  display: flex;\n",
       "  flex-direction: column;\n",
       "  align-items: center;\n",
       "  background-color: var(--sklearn-color-background);\n",
       "  padding-right: 1em;\n",
       "  padding-left: 1em;\n",
       "}\n",
       "\n",
       "\n",
       "/* Toggleable style: style used for estimator/Pipeline/ColumnTransformer box that is\n",
       "clickable and can be expanded/collapsed.\n",
       "- Pipeline and ColumnTransformer use this feature and define the default style\n",
       "- Estimators will overwrite some part of the style using the `sk-estimator` class\n",
       "*/\n",
       "\n",
       "/* Pipeline and ColumnTransformer style (default) */\n",
       "\n",
       "#sk-container-id-2 div.sk-toggleable {\n",
       "  /* Default theme specific background. It is overwritten whether we have a\n",
       "  specific estimator or a Pipeline/ColumnTransformer */\n",
       "  background-color: var(--sklearn-color-background);\n",
       "}\n",
       "\n",
       "/* Toggleable label */\n",
       "#sk-container-id-2 label.sk-toggleable__label {\n",
       "  cursor: pointer;\n",
       "  display: block;\n",
       "  width: 100%;\n",
       "  margin-bottom: 0;\n",
       "  padding: 0.5em;\n",
       "  box-sizing: border-box;\n",
       "  text-align: center;\n",
       "}\n",
       "\n",
       "#sk-container-id-2 label.sk-toggleable__label-arrow:before {\n",
       "  /* Arrow on the left of the label */\n",
       "  content: \"▸\";\n",
       "  float: left;\n",
       "  margin-right: 0.25em;\n",
       "  color: var(--sklearn-color-icon);\n",
       "}\n",
       "\n",
       "#sk-container-id-2 label.sk-toggleable__label-arrow:hover:before {\n",
       "  color: var(--sklearn-color-text);\n",
       "}\n",
       "\n",
       "/* Toggleable content - dropdown */\n",
       "\n",
       "#sk-container-id-2 div.sk-toggleable__content {\n",
       "  max-height: 0;\n",
       "  max-width: 0;\n",
       "  overflow: hidden;\n",
       "  text-align: left;\n",
       "  /* unfitted */\n",
       "  background-color: var(--sklearn-color-unfitted-level-0);\n",
       "}\n",
       "\n",
       "#sk-container-id-2 div.sk-toggleable__content.fitted {\n",
       "  /* fitted */\n",
       "  background-color: var(--sklearn-color-fitted-level-0);\n",
       "}\n",
       "\n",
       "#sk-container-id-2 div.sk-toggleable__content pre {\n",
       "  margin: 0.2em;\n",
       "  border-radius: 0.25em;\n",
       "  color: var(--sklearn-color-text);\n",
       "  /* unfitted */\n",
       "  background-color: var(--sklearn-color-unfitted-level-0);\n",
       "}\n",
       "\n",
       "#sk-container-id-2 div.sk-toggleable__content.fitted pre {\n",
       "  /* unfitted */\n",
       "  background-color: var(--sklearn-color-fitted-level-0);\n",
       "}\n",
       "\n",
       "#sk-container-id-2 input.sk-toggleable__control:checked~div.sk-toggleable__content {\n",
       "  /* Expand drop-down */\n",
       "  max-height: 200px;\n",
       "  max-width: 100%;\n",
       "  overflow: auto;\n",
       "}\n",
       "\n",
       "#sk-container-id-2 input.sk-toggleable__control:checked~label.sk-toggleable__label-arrow:before {\n",
       "  content: \"▾\";\n",
       "}\n",
       "\n",
       "/* Pipeline/ColumnTransformer-specific style */\n",
       "\n",
       "#sk-container-id-2 div.sk-label input.sk-toggleable__control:checked~label.sk-toggleable__label {\n",
       "  color: var(--sklearn-color-text);\n",
       "  background-color: var(--sklearn-color-unfitted-level-2);\n",
       "}\n",
       "\n",
       "#sk-container-id-2 div.sk-label.fitted input.sk-toggleable__control:checked~label.sk-toggleable__label {\n",
       "  background-color: var(--sklearn-color-fitted-level-2);\n",
       "}\n",
       "\n",
       "/* Estimator-specific style */\n",
       "\n",
       "/* Colorize estimator box */\n",
       "#sk-container-id-2 div.sk-estimator input.sk-toggleable__control:checked~label.sk-toggleable__label {\n",
       "  /* unfitted */\n",
       "  background-color: var(--sklearn-color-unfitted-level-2);\n",
       "}\n",
       "\n",
       "#sk-container-id-2 div.sk-estimator.fitted input.sk-toggleable__control:checked~label.sk-toggleable__label {\n",
       "  /* fitted */\n",
       "  background-color: var(--sklearn-color-fitted-level-2);\n",
       "}\n",
       "\n",
       "#sk-container-id-2 div.sk-label label.sk-toggleable__label,\n",
       "#sk-container-id-2 div.sk-label label {\n",
       "  /* The background is the default theme color */\n",
       "  color: var(--sklearn-color-text-on-default-background);\n",
       "}\n",
       "\n",
       "/* On hover, darken the color of the background */\n",
       "#sk-container-id-2 div.sk-label:hover label.sk-toggleable__label {\n",
       "  color: var(--sklearn-color-text);\n",
       "  background-color: var(--sklearn-color-unfitted-level-2);\n",
       "}\n",
       "\n",
       "/* Label box, darken color on hover, fitted */\n",
       "#sk-container-id-2 div.sk-label.fitted:hover label.sk-toggleable__label.fitted {\n",
       "  color: var(--sklearn-color-text);\n",
       "  background-color: var(--sklearn-color-fitted-level-2);\n",
       "}\n",
       "\n",
       "/* Estimator label */\n",
       "\n",
       "#sk-container-id-2 div.sk-label label {\n",
       "  font-family: monospace;\n",
       "  font-weight: bold;\n",
       "  display: inline-block;\n",
       "  line-height: 1.2em;\n",
       "}\n",
       "\n",
       "#sk-container-id-2 div.sk-label-container {\n",
       "  text-align: center;\n",
       "}\n",
       "\n",
       "/* Estimator-specific */\n",
       "#sk-container-id-2 div.sk-estimator {\n",
       "  font-family: monospace;\n",
       "  border: 1px dotted var(--sklearn-color-border-box);\n",
       "  border-radius: 0.25em;\n",
       "  box-sizing: border-box;\n",
       "  margin-bottom: 0.5em;\n",
       "  /* unfitted */\n",
       "  background-color: var(--sklearn-color-unfitted-level-0);\n",
       "}\n",
       "\n",
       "#sk-container-id-2 div.sk-estimator.fitted {\n",
       "  /* fitted */\n",
       "  background-color: var(--sklearn-color-fitted-level-0);\n",
       "}\n",
       "\n",
       "/* on hover */\n",
       "#sk-container-id-2 div.sk-estimator:hover {\n",
       "  /* unfitted */\n",
       "  background-color: var(--sklearn-color-unfitted-level-2);\n",
       "}\n",
       "\n",
       "#sk-container-id-2 div.sk-estimator.fitted:hover {\n",
       "  /* fitted */\n",
       "  background-color: var(--sklearn-color-fitted-level-2);\n",
       "}\n",
       "\n",
       "/* Specification for estimator info (e.g. \"i\" and \"?\") */\n",
       "\n",
       "/* Common style for \"i\" and \"?\" */\n",
       "\n",
       ".sk-estimator-doc-link,\n",
       "a:link.sk-estimator-doc-link,\n",
       "a:visited.sk-estimator-doc-link {\n",
       "  float: right;\n",
       "  font-size: smaller;\n",
       "  line-height: 1em;\n",
       "  font-family: monospace;\n",
       "  background-color: var(--sklearn-color-background);\n",
       "  border-radius: 1em;\n",
       "  height: 1em;\n",
       "  width: 1em;\n",
       "  text-decoration: none !important;\n",
       "  margin-left: 1ex;\n",
       "  /* unfitted */\n",
       "  border: var(--sklearn-color-unfitted-level-1) 1pt solid;\n",
       "  color: var(--sklearn-color-unfitted-level-1);\n",
       "}\n",
       "\n",
       ".sk-estimator-doc-link.fitted,\n",
       "a:link.sk-estimator-doc-link.fitted,\n",
       "a:visited.sk-estimator-doc-link.fitted {\n",
       "  /* fitted */\n",
       "  border: var(--sklearn-color-fitted-level-1) 1pt solid;\n",
       "  color: var(--sklearn-color-fitted-level-1);\n",
       "}\n",
       "\n",
       "/* On hover */\n",
       "div.sk-estimator:hover .sk-estimator-doc-link:hover,\n",
       ".sk-estimator-doc-link:hover,\n",
       "div.sk-label-container:hover .sk-estimator-doc-link:hover,\n",
       ".sk-estimator-doc-link:hover {\n",
       "  /* unfitted */\n",
       "  background-color: var(--sklearn-color-unfitted-level-3);\n",
       "  color: var(--sklearn-color-background);\n",
       "  text-decoration: none;\n",
       "}\n",
       "\n",
       "div.sk-estimator.fitted:hover .sk-estimator-doc-link.fitted:hover,\n",
       ".sk-estimator-doc-link.fitted:hover,\n",
       "div.sk-label-container:hover .sk-estimator-doc-link.fitted:hover,\n",
       ".sk-estimator-doc-link.fitted:hover {\n",
       "  /* fitted */\n",
       "  background-color: var(--sklearn-color-fitted-level-3);\n",
       "  color: var(--sklearn-color-background);\n",
       "  text-decoration: none;\n",
       "}\n",
       "\n",
       "/* Span, style for the box shown on hovering the info icon */\n",
       ".sk-estimator-doc-link span {\n",
       "  display: none;\n",
       "  z-index: 9999;\n",
       "  position: relative;\n",
       "  font-weight: normal;\n",
       "  right: .2ex;\n",
       "  padding: .5ex;\n",
       "  margin: .5ex;\n",
       "  width: min-content;\n",
       "  min-width: 20ex;\n",
       "  max-width: 50ex;\n",
       "  color: var(--sklearn-color-text);\n",
       "  box-shadow: 2pt 2pt 4pt #999;\n",
       "  /* unfitted */\n",
       "  background: var(--sklearn-color-unfitted-level-0);\n",
       "  border: .5pt solid var(--sklearn-color-unfitted-level-3);\n",
       "}\n",
       "\n",
       ".sk-estimator-doc-link.fitted span {\n",
       "  /* fitted */\n",
       "  background: var(--sklearn-color-fitted-level-0);\n",
       "  border: var(--sklearn-color-fitted-level-3);\n",
       "}\n",
       "\n",
       ".sk-estimator-doc-link:hover span {\n",
       "  display: block;\n",
       "}\n",
       "\n",
       "/* \"?\"-specific style due to the `<a>` HTML tag */\n",
       "\n",
       "#sk-container-id-2 a.estimator_doc_link {\n",
       "  float: right;\n",
       "  font-size: 1rem;\n",
       "  line-height: 1em;\n",
       "  font-family: monospace;\n",
       "  background-color: var(--sklearn-color-background);\n",
       "  border-radius: 1rem;\n",
       "  height: 1rem;\n",
       "  width: 1rem;\n",
       "  text-decoration: none;\n",
       "  /* unfitted */\n",
       "  color: var(--sklearn-color-unfitted-level-1);\n",
       "  border: var(--sklearn-color-unfitted-level-1) 1pt solid;\n",
       "}\n",
       "\n",
       "#sk-container-id-2 a.estimator_doc_link.fitted {\n",
       "  /* fitted */\n",
       "  border: var(--sklearn-color-fitted-level-1) 1pt solid;\n",
       "  color: var(--sklearn-color-fitted-level-1);\n",
       "}\n",
       "\n",
       "/* On hover */\n",
       "#sk-container-id-2 a.estimator_doc_link:hover {\n",
       "  /* unfitted */\n",
       "  background-color: var(--sklearn-color-unfitted-level-3);\n",
       "  color: var(--sklearn-color-background);\n",
       "  text-decoration: none;\n",
       "}\n",
       "\n",
       "#sk-container-id-2 a.estimator_doc_link.fitted:hover {\n",
       "  /* fitted */\n",
       "  background-color: var(--sklearn-color-fitted-level-3);\n",
       "}\n",
       "</style><div id=\"sk-container-id-2\" class=\"sk-top-container\"><div class=\"sk-text-repr-fallback\"><pre>DecisionTreeClassifier(max_depth=5, min_samples_leaf=5, random_state=100)</pre><b>In a Jupyter environment, please rerun this cell to show the HTML representation or trust the notebook. <br />On GitHub, the HTML representation is unable to render, please try loading this page with nbviewer.org.</b></div><div class=\"sk-container\" hidden><div class=\"sk-item\"><div class=\"sk-estimator fitted sk-toggleable\"><input class=\"sk-toggleable__control sk-hidden--visually\" id=\"sk-estimator-id-2\" type=\"checkbox\" checked><label for=\"sk-estimator-id-2\" class=\"sk-toggleable__label fitted sk-toggleable__label-arrow fitted\">&nbsp;&nbsp;DecisionTreeClassifier<a class=\"sk-estimator-doc-link fitted\" rel=\"noreferrer\" target=\"_blank\" href=\"https://scikit-learn.org/1.5/modules/generated/sklearn.tree.DecisionTreeClassifier.html\">?<span>Documentation for DecisionTreeClassifier</span></a><span class=\"sk-estimator-doc-link fitted\">i<span>Fitted</span></span></label><div class=\"sk-toggleable__content fitted\"><pre>DecisionTreeClassifier(max_depth=5, min_samples_leaf=5, random_state=100)</pre></div> </div></div></div></div>"
      ],
      "text/plain": [
       "DecisionTreeClassifier(max_depth=5, min_samples_leaf=5, random_state=100)"
      ]
     },
     "execution_count": 44,
     "metadata": {},
     "output_type": "execute_result"
    }
   ],
   "source": [
    "# Load library\n",
    "# from sklearn import tree\n",
    "from sklearn.tree import DecisionTreeClassifier\n",
    "# Building Decision Tree - CART Algorithm (gini criteria)\n",
    "dt_train_gini = DecisionTreeClassifier(criterion = \"gini\", random_state = 100,\n",
    "                               max_depth = 5, min_samples_leaf = 5)\n",
    "# Train\n",
    "dt_train_gini.fit(Train_IndepentVars, Train_TargetVar)"
   ]
  },
  {
   "cell_type": "code",
   "execution_count": 45,
   "metadata": {},
   "outputs": [
    {
     "data": {
      "text/plain": [
       "array(['A', 'A', 'A', 'A', 'A', 'A', 'A', 'A', 'A', 'A', 'A', 'A', 'A',\n",
       "       'A', 'B', 'A', 'A', 'A', 'B', 'A', 'A', 'A', 'A', 'A', 'B', 'A',\n",
       "       'A', 'A', 'B', 'A', 'A', 'A', 'B', 'A', 'B', 'A', 'A', 'A', 'A',\n",
       "       'A', 'A', 'B', 'A', 'A', 'A', 'A', 'A', 'B', 'A', 'A', 'A', 'A',\n",
       "       'A', 'B', 'A', 'B', 'A', 'A', 'A', 'A', 'A', 'A', 'A', 'A', 'A',\n",
       "       'B', 'A', 'A', 'A', 'A', 'A', 'A', 'B', 'A', 'A', 'A', 'A', 'A',\n",
       "       'A', 'B', 'A', 'B', 'A', 'A', 'A', 'A', 'B', 'B', 'A', 'A', 'A',\n",
       "       'A', 'A', 'A', 'A', 'A', 'B', 'A', 'A', 'B', 'B', 'B', 'A', 'A',\n",
       "       'B', 'A', 'A', 'A', 'A', 'A', 'A', 'B', 'A', 'A', 'B', 'B', 'A',\n",
       "       'A', 'A', 'A', 'A', 'A', 'B', 'A', 'A', 'A', 'A', 'B', 'A', 'A',\n",
       "       'A', 'A', 'A', 'A', 'A', 'B', 'A', 'B', 'A', 'A', 'A', 'B', 'A'],\n",
       "      dtype=object)"
      ]
     },
     "execution_count": 45,
     "metadata": {},
     "output_type": "execute_result"
    }
   ],
   "source": [
    "Test_new = Test.values[:,3:5]\n",
    "pred_output = dt_train_gini.predict(Test_new)\n",
    "pred_output"
   ]
  },
  {
   "cell_type": "code",
   "execution_count": 46,
   "metadata": {},
   "outputs": [
    {
     "name": "stdout",
     "output_type": "stream",
     "text": [
      "[[0.51851852 0.48148148]\n",
      " [0.73684211 0.26315789]\n",
      " [0.93333333 0.06666667]\n",
      " [0.89830508 0.10169492]\n",
      " [0.88157895 0.11842105]\n",
      " [0.89830508 0.10169492]\n",
      " [0.51851852 0.48148148]\n",
      " [0.73333333 0.26666667]\n",
      " [0.89830508 0.10169492]\n",
      " [1.         0.        ]]\n"
     ]
    }
   ],
   "source": [
    "print(dt_train_gini.predict_proba(Test_new)[:10])"
   ]
  },
  {
   "cell_type": "code",
   "execution_count": 47,
   "metadata": {},
   "outputs": [
    {
     "name": "stdout",
     "output_type": "stream",
     "text": [
      "[[0.88157895 0.11842105]\n",
      " [0.88157895 0.11842105]\n",
      " [0.         1.        ]\n",
      " [0.73333333 0.26666667]\n",
      " [0.         1.        ]\n",
      " [0.88157895 0.11842105]\n",
      " [0.73333333 0.26666667]\n",
      " [0.73684211 0.26315789]\n",
      " [0.3125     0.6875    ]\n",
      " [0.88157895 0.11842105]]\n"
     ]
    }
   ],
   "source": [
    "print(dt_train_gini.predict_proba(Test_new)[-10:])"
   ]
  },
  {
   "cell_type": "code",
   "execution_count": 48,
   "metadata": {},
   "outputs": [
    {
     "data": {
      "text/html": [
       "<div>\n",
       "<style scoped>\n",
       "    .dataframe tbody tr th:only-of-type {\n",
       "        vertical-align: middle;\n",
       "    }\n",
       "\n",
       "    .dataframe tbody tr th {\n",
       "        vertical-align: top;\n",
       "    }\n",
       "\n",
       "    .dataframe thead th {\n",
       "        text-align: right;\n",
       "    }\n",
       "</style>\n",
       "<table border=\"1\" class=\"dataframe\">\n",
       "  <thead>\n",
       "    <tr style=\"text-align: right;\">\n",
       "      <th>Predicted Values</th>\n",
       "      <th>A</th>\n",
       "      <th>B</th>\n",
       "    </tr>\n",
       "    <tr>\n",
       "      <th>Actual Value</th>\n",
       "      <th></th>\n",
       "      <th></th>\n",
       "    </tr>\n",
       "  </thead>\n",
       "  <tbody>\n",
       "    <tr>\n",
       "      <th>A</th>\n",
       "      <td>92</td>\n",
       "      <td>15</td>\n",
       "    </tr>\n",
       "    <tr>\n",
       "      <th>B</th>\n",
       "      <td>22</td>\n",
       "      <td>14</td>\n",
       "    </tr>\n",
       "  </tbody>\n",
       "</table>\n",
       "</div>"
      ],
      "text/plain": [
       "Predicted Values   A   B\n",
       "Actual Value            \n",
       "A                 92  15\n",
       "B                 22  14"
      ]
     },
     "execution_count": 48,
     "metadata": {},
     "output_type": "execute_result"
    }
   ],
   "source": [
    "# constructing confusion matrix\n",
    "actual_outputs = Test['Spend_Drop_over50pct']\n",
    "pd.crosstab(actual_outputs, pred_output, rownames = ['Actual Value'], colnames = ['Predicted Values'])"
   ]
  },
  {
   "cell_type": "code",
   "execution_count": 49,
   "metadata": {},
   "outputs": [
    {
     "name": "stdout",
     "output_type": "stream",
     "text": [
      "[0.62978053 0.37021947]\n"
     ]
    }
   ],
   "source": [
    "print (dt_train_gini.feature_importances_)"
   ]
  },
  {
   "cell_type": "code",
   "execution_count": 50,
   "metadata": {},
   "outputs": [
    {
     "name": "stdout",
     "output_type": "stream",
     "text": [
      "Index(['Last_Month_spend', 'Last_3m_avg_spend'], dtype='object')\n"
     ]
    },
    {
     "data": {
      "text/plain": [
       "{'Last_Month_spend': 0.6297805290500129,\n",
       " 'Last_3m_avg_spend': 0.37021947094998703}"
      ]
     },
     "execution_count": 50,
     "metadata": {},
     "output_type": "execute_result"
    }
   ],
   "source": [
    "features = Train.columns[3:5]\n",
    "print (features)\n",
    "dict(list(zip(features, dt_train_gini.feature_importances_)))"
   ]
  },
  {
   "cell_type": "code",
   "execution_count": 51,
   "metadata": {
    "scrolled": true,
    "tags": []
   },
   "outputs": [
    {
     "name": "stdout",
     "output_type": "stream",
     "text": [
      "\tActual Value | Predicted Value\n",
      "1 \t    A \t\t   A \t\t\n",
      "2 \t    A \t\t   A \t\t\n",
      "3 \t    B \t\t   A \t\t\n",
      "4 \t    A \t\t   A \t\t\n",
      "5 \t    A \t\t   A \t\t\n",
      "6 \t    A \t\t   A \t\t\n",
      "7 \t    A \t\t   A \t\t\n",
      "8 \t    B \t\t   A \t\t\n",
      "9 \t    A \t\t   A \t\t\n",
      "10 \t    A \t\t   A \t\t\n",
      "11 \t    A \t\t   A \t\t\n",
      "12 \t    A \t\t   A \t\t\n",
      "13 \t    B \t\t   A \t\t\n",
      "14 \t    A \t\t   A \t\t\n",
      "15 \t    A \t\t   B \t\t\n",
      "16 \t    B \t\t   A \t\t\n",
      "17 \t    A \t\t   A \t\t\n",
      "18 \t    A \t\t   A \t\t\n",
      "19 \t    B \t\t   B \t\t\n",
      "20 \t    A \t\t   A \t\t\n",
      "21 \t    A \t\t   A \t\t\n",
      "22 \t    A \t\t   A \t\t\n",
      "23 \t    A \t\t   A \t\t\n",
      "24 \t    B \t\t   A \t\t\n",
      "25 \t    B \t\t   B \t\t\n",
      "26 \t    A \t\t   A \t\t\n",
      "27 \t    B \t\t   A \t\t\n",
      "28 \t    A \t\t   A \t\t\n",
      "29 \t    B \t\t   B \t\t\n",
      "30 \t    A \t\t   A \t\t\n",
      "31 \t    A \t\t   A \t\t\n",
      "32 \t    B \t\t   A \t\t\n",
      "33 \t    B \t\t   B \t\t\n",
      "34 \t    A \t\t   A \t\t\n",
      "35 \t    A \t\t   B \t\t\n",
      "36 \t    A \t\t   A \t\t\n",
      "37 \t    A \t\t   A \t\t\n",
      "38 \t    A \t\t   A \t\t\n",
      "39 \t    A \t\t   A \t\t\n",
      "40 \t    B \t\t   A \t\t\n",
      "41 \t    A \t\t   A \t\t\n",
      "42 \t    B \t\t   B \t\t\n",
      "43 \t    A \t\t   A \t\t\n",
      "44 \t    A \t\t   A \t\t\n",
      "45 \t    B \t\t   A \t\t\n",
      "46 \t    B \t\t   A \t\t\n",
      "47 \t    A \t\t   A \t\t\n",
      "48 \t    A \t\t   B \t\t\n",
      "49 \t    A \t\t   A \t\t\n",
      "50 \t    A \t\t   A \t\t\n",
      "51 \t    A \t\t   A \t\t\n",
      "52 \t    A \t\t   A \t\t\n",
      "53 \t    A \t\t   A \t\t\n",
      "54 \t    B \t\t   B \t\t\n",
      "55 \t    A \t\t   A \t\t\n",
      "56 \t    A \t\t   B \t\t\n",
      "57 \t    A \t\t   A \t\t\n",
      "58 \t    A \t\t   A \t\t\n",
      "59 \t    A \t\t   A \t\t\n",
      "60 \t    A \t\t   A \t\t\n",
      "61 \t    A \t\t   A \t\t\n",
      "62 \t    B \t\t   A \t\t\n",
      "63 \t    A \t\t   A \t\t\n",
      "64 \t    A \t\t   A \t\t\n",
      "65 \t    B \t\t   A \t\t\n",
      "66 \t    A \t\t   B \t\t\n",
      "67 \t    A \t\t   A \t\t\n",
      "68 \t    B \t\t   A \t\t\n",
      "69 \t    A \t\t   A \t\t\n",
      "70 \t    A \t\t   A \t\t\n",
      "71 \t    A \t\t   A \t\t\n",
      "72 \t    A \t\t   A \t\t\n",
      "73 \t    A \t\t   B \t\t\n",
      "74 \t    A \t\t   A \t\t\n",
      "75 \t    B \t\t   A \t\t\n",
      "76 \t    A \t\t   A \t\t\n",
      "77 \t    A \t\t   A \t\t\n",
      "78 \t    A \t\t   A \t\t\n",
      "79 \t    A \t\t   A \t\t\n",
      "80 \t    B \t\t   B \t\t\n",
      "81 \t    A \t\t   A \t\t\n",
      "82 \t    A \t\t   B \t\t\n",
      "83 \t    A \t\t   A \t\t\n",
      "84 \t    A \t\t   A \t\t\n",
      "85 \t    A \t\t   A \t\t\n",
      "86 \t    B \t\t   A \t\t\n",
      "87 \t    A \t\t   B \t\t\n",
      "88 \t    A \t\t   B \t\t\n",
      "89 \t    A \t\t   A \t\t\n",
      "90 \t    A \t\t   A \t\t\n",
      "91 \t    B \t\t   A \t\t\n",
      "92 \t    A \t\t   A \t\t\n",
      "93 \t    A \t\t   A \t\t\n",
      "94 \t    A \t\t   A \t\t\n",
      "95 \t    A \t\t   A \t\t\n",
      "96 \t    A \t\t   A \t\t\n",
      "97 \t    A \t\t   B \t\t\n",
      "98 \t    A \t\t   A \t\t\n",
      "99 \t    A \t\t   A \t\t\n",
      "100 \t    B \t\t   B \t\t\n",
      "101 \t    A \t\t   B \t\t\n",
      "102 \t    B \t\t   B \t\t\n",
      "103 \t    A \t\t   A \t\t\n",
      "104 \t    B \t\t   A \t\t\n",
      "105 \t    B \t\t   B \t\t\n",
      "106 \t    A \t\t   A \t\t\n",
      "107 \t    A \t\t   A \t\t\n",
      "108 \t    B \t\t   A \t\t\n",
      "109 \t    A \t\t   A \t\t\n",
      "110 \t    B \t\t   A \t\t\n",
      "111 \t    A \t\t   A \t\t\n",
      "112 \t    A \t\t   B \t\t\n",
      "113 \t    A \t\t   A \t\t\n",
      "114 \t    A \t\t   A \t\t\n",
      "115 \t    A \t\t   B \t\t\n",
      "116 \t    A \t\t   B \t\t\n",
      "117 \t    A \t\t   A \t\t\n",
      "118 \t    A \t\t   A \t\t\n",
      "119 \t    A \t\t   A \t\t\n",
      "120 \t    A \t\t   A \t\t\n",
      "121 \t    A \t\t   A \t\t\n",
      "122 \t    A \t\t   A \t\t\n",
      "123 \t    A \t\t   B \t\t\n",
      "124 \t    B \t\t   A \t\t\n",
      "125 \t    A \t\t   A \t\t\n",
      "126 \t    A \t\t   A \t\t\n",
      "127 \t    A \t\t   A \t\t\n",
      "128 \t    B \t\t   B \t\t\n",
      "129 \t    B \t\t   A \t\t\n",
      "130 \t    A \t\t   A \t\t\n",
      "131 \t    A \t\t   A \t\t\n",
      "132 \t    A \t\t   A \t\t\n",
      "133 \t    A \t\t   A \t\t\n",
      "134 \t    A \t\t   A \t\t\n",
      "135 \t    A \t\t   A \t\t\n",
      "136 \t    B \t\t   B \t\t\n",
      "137 \t    A \t\t   A \t\t\n",
      "138 \t    B \t\t   B \t\t\n",
      "139 \t    B \t\t   A \t\t\n",
      "140 \t    A \t\t   A \t\t\n",
      "141 \t    A \t\t   A \t\t\n",
      "142 \t    B \t\t   B \t\t\n",
      "143 \t    A \t\t   A \t\t\n"
     ]
    }
   ],
   "source": [
    "import numpy as np\n",
    "print(\"\\tActual Value | Predicted Value\")\n",
    "arr = np.concatenate((np.array(actual_outputs).reshape(-1,1), np.array(pred_output).reshape(-1,1)), axis=1)\n",
    "for i in range(len(arr)):\n",
    "    print((i+1),\"\\t\", end=\" \")\n",
    "    for j in range(2):\n",
    "        print(\"  \",arr[i][j],\"\\t\\t\", end=\"\")\n",
    "    print()"
   ]
  },
  {
   "cell_type": "code",
   "execution_count": 61,
   "metadata": {},
   "outputs": [
    {
     "name": "stdout",
     "output_type": "stream",
     "text": [
      "The accuracy of the model :  74.12587412587412 %\n"
     ]
    }
   ],
   "source": [
    "from sklearn.metrics import accuracy_score\n",
    "print(\"The accuracy of the model : \",accuracy_score(actual_outputs, pred_output)*100,\"%\")"
   ]
  },
  {
   "cell_type": "code",
   "execution_count": 53,
   "metadata": {},
   "outputs": [
    {
     "name": "stdout",
     "output_type": "stream",
     "text": [
      "              precision    recall  f1-score   support\n",
      "\n",
      "           A       0.81      0.86      0.83       107\n",
      "           B       0.48      0.39      0.43        36\n",
      "\n",
      "    accuracy                           0.74       143\n",
      "   macro avg       0.64      0.62      0.63       143\n",
      "weighted avg       0.73      0.74      0.73       143\n",
      "\n"
     ]
    }
   ],
   "source": [
    "from sklearn.metrics import classification_report\n",
    "target_names = ['A', 'B']\n",
    "print(classification_report(actual_outputs, pred_output, target_names=target_names))"
   ]
  },
  {
   "cell_type": "markdown",
   "metadata": {},
   "source": [
    "<b>Decision Tree Visualization</b>"
   ]
  },
  {
   "cell_type": "markdown",
   "metadata": {},
   "source": [
    "To see the decision tree plot we'll use graphviz."
   ]
  },
  {
   "cell_type": "code",
   "execution_count": 54,
   "metadata": {},
   "outputs": [],
   "source": [
    "from sklearn import tree\n",
    "with open(\"dt_train_gini.txt\", \"w\") as f:\n",
    "    f = tree.export_graphviz(dt_train_gini, out_file=f)"
   ]
  },
  {
   "cell_type": "markdown",
   "metadata": {},
   "source": [
    "This step create a text file dt_train_gini.txt in the default folder. We can give full path as well. We can copy the context of this text file and put into the box on http://www.webgraphviz.com/"
   ]
  },
  {
   "cell_type": "code",
   "execution_count": 55,
   "metadata": {},
   "outputs": [
    {
     "data": {
      "text/plain": [
       "[Text(0.29375, 0.9166666666666666, 'x[0] <= 75.0\\ngini = 0.392\\nsamples = 332\\nvalue = [243, 89]'),\n",
       " Text(0.1, 0.75, 'x[0] <= 35.0\\ngini = 0.346\\nsamples = 18\\nvalue = [4, 14]'),\n",
       " Text(0.19687500000000002, 0.8333333333333333, 'True  '),\n",
       " Text(0.05, 0.5833333333333334, 'gini = 0.49\\nsamples = 7\\nvalue = [4, 3]'),\n",
       " Text(0.15, 0.5833333333333334, 'gini = 0.0\\nsamples = 11\\nvalue = [0, 11]'),\n",
       " Text(0.4875, 0.75, 'x[0] <= 315.0\\ngini = 0.364\\nsamples = 314\\nvalue = [239.0, 75.0]'),\n",
       " Text(0.390625, 0.8333333333333333, '  False'),\n",
       " Text(0.25, 0.5833333333333334, 'x[1] <= 235.0\\ngini = 0.473\\nsamples = 65\\nvalue = [40, 25]'),\n",
       " Text(0.15, 0.4166666666666667, 'x[0] <= 240.0\\ngini = 0.393\\nsamples = 52\\nvalue = [38, 14]'),\n",
       " Text(0.1, 0.25, 'x[1] <= 75.0\\ngini = 0.444\\nsamples = 42\\nvalue = [28, 14]'),\n",
       " Text(0.05, 0.08333333333333333, 'gini = 0.124\\nsamples = 15\\nvalue = [14, 1]'),\n",
       " Text(0.15, 0.08333333333333333, 'gini = 0.499\\nsamples = 27\\nvalue = [14, 13]'),\n",
       " Text(0.2, 0.25, 'gini = 0.0\\nsamples = 10\\nvalue = [10, 0]'),\n",
       " Text(0.35, 0.4166666666666667, 'x[0] <= 285.0\\ngini = 0.26\\nsamples = 13\\nvalue = [2, 11]'),\n",
       " Text(0.3, 0.25, 'gini = 0.0\\nsamples = 8\\nvalue = [0, 8]'),\n",
       " Text(0.4, 0.25, 'gini = 0.48\\nsamples = 5\\nvalue = [2, 3]'),\n",
       " Text(0.725, 0.5833333333333334, 'x[0] <= 885.0\\ngini = 0.321\\nsamples = 249\\nvalue = [199, 50]'),\n",
       " Text(0.6, 0.4166666666666667, 'x[1] <= 605.0\\ngini = 0.369\\nsamples = 160\\nvalue = [121, 39]'),\n",
       " Text(0.5, 0.25, 'x[1] <= 275.0\\ngini = 0.245\\nsamples = 84\\nvalue = [72, 12]'),\n",
       " Text(0.45, 0.08333333333333333, 'gini = 0.469\\nsamples = 8\\nvalue = [5, 3]'),\n",
       " Text(0.55, 0.08333333333333333, 'gini = 0.209\\nsamples = 76\\nvalue = [67, 9]'),\n",
       " Text(0.7, 0.25, 'x[0] <= 685.0\\ngini = 0.458\\nsamples = 76\\nvalue = [49, 27]'),\n",
       " Text(0.65, 0.08333333333333333, 'gini = 0.43\\nsamples = 16\\nvalue = [5, 11]'),\n",
       " Text(0.75, 0.08333333333333333, 'gini = 0.391\\nsamples = 60\\nvalue = [44, 16]'),\n",
       " Text(0.85, 0.4166666666666667, 'x[1] <= 905.0\\ngini = 0.217\\nsamples = 89\\nvalue = [78, 11]'),\n",
       " Text(0.8, 0.25, 'gini = 0.0\\nsamples = 11\\nvalue = [11, 0]'),\n",
       " Text(0.9, 0.25, 'x[0] <= 1005.0\\ngini = 0.242\\nsamples = 78\\nvalue = [67, 11]'),\n",
       " Text(0.85, 0.08333333333333333, 'gini = 0.388\\nsamples = 19\\nvalue = [14, 5]'),\n",
       " Text(0.95, 0.08333333333333333, 'gini = 0.183\\nsamples = 59\\nvalue = [53, 6]')]"
      ]
     },
     "execution_count": 55,
     "metadata": {},
     "output_type": "execute_result"
    },
    {
     "data": {
      "image/png": "[encoded data removed]",
      "text/plain": [
       "<Figure size 2000x1000 with 1 Axes>"
      ]
     },
     "metadata": {},
     "output_type": "display_data"
    }
   ],
   "source": [
    "from sklearn import tree\n",
    "import matplotlib.pyplot as plt\n",
    "plt.subplots(figsize = (20, 10))     # for resizing the graph\n",
    "tree.plot_tree(dt_train_gini, filled = True, rounded = True)"
   ]
  },
  {
   "cell_type": "code",
   "execution_count": 56,
   "metadata": {},
   "outputs": [],
   "source": [
    "# !pip install graphviz\n",
    "# import graphviz\n",
    "# dot_data = tree.export_graphviz(dt_train_gini, out_file = None, rounded = True, special_characters = True, filled = True)\n",
    "# graph = graphviz.Source(dot_data) \n",
    "# # graph.render(\"decision_tree.pdf\", view = True)   # to create the graph utput on a PDF file\n",
    "# graph"
   ]
  },
  {
   "cell_type": "code",
   "execution_count": 60,
   "metadata": {},
   "outputs": [
    {
     "name": "stdout",
     "output_type": "stream",
     "text": [
      "<zip object at 0x0000023C232BCF80>\n",
      "[('apple', 100), ('banana', 230), ('guava', 450), ('mango', 310)]\n",
      "{'apple': 100, 'banana': 230, 'guava': 450, 'mango': 310}\n"
     ]
    }
   ],
   "source": [
    "fruits = [\"apple\", \"banana\", \"guava\", \"mango\"]\n",
    "prices = [100, 230, 450, 310]\n",
    "print(zip(fruits, prices))\n",
    "print(list(zip(fruits, prices)))\n",
    "print(dict(zip(fruits, prices)))"
   ]
  },
  {
   "cell_type": "code",
   "execution_count": null,
   "metadata": {},
   "outputs": [],
   "source": []
  },
  {
   "cell_type": "code",
   "execution_count": null,
   "metadata": {},
   "outputs": [],
   "source": []
  },
  {
   "cell_type": "code",
   "execution_count": null,
   "metadata": {},
   "outputs": [],
   "source": []
  },
  {
   "cell_type": "code",
   "execution_count": null,
   "metadata": {},
   "outputs": [],
   "source": []
  },
  {
   "cell_type": "code",
   "execution_count": null,
   "metadata": {},
   "outputs": [],
   "source": []
  },
  {
   "cell_type": "markdown",
   "metadata": {},
   "source": [
    "Step 1:\n",
    "pip install pydotplus\n",
    "\n",
    "Step 2:\n",
    "Download and install graphviz-2.50.0 (64-bit) EXE installer [sha256] (use the newest version) from https://graphviz.org/download/\n",
    "Set the path variable<br>\n",
    "        (a) Control Panel > System and Security > System > Advanced System Settings > Environment Variables > Path > Edit<br>\n",
    "        (b) add 'C:\\Program Files (x86)\\Graphviz2.38\\bin'"
   ]
  },
  {
   "cell_type": "code",
   "execution_count": 57,
   "metadata": {},
   "outputs": [],
   "source": [
    "# # from sklearn.externals.six import StringIO\n",
    "# from six import StringIO\n",
    "# from IPython.display import Image \n",
    "# from sklearn.tree import export_graphviz\n",
    "# import pydotplus\n",
    "# dot_data = StringIO()\n",
    "# export_graphviz(dt_train_gini, out_file=dot_data,filled=True, rounded=True, special_characters=True)\n",
    "# graph = pydotplus.graph_from_dot_data(dot_data.getvalue()) \n",
    "# Image(graph.create_png())"
   ]
  },
  {
   "cell_type": "code",
   "execution_count": null,
   "metadata": {},
   "outputs": [],
   "source": []
  }
 ],
 "metadata": {
  "kernelspec": {
   "display_name": "Python [conda env:base] *",
   "language": "python",
   "name": "conda-base-py"
  },
  "language_info": {
   "codemirror_mode": {
    "name": "ipython",
    "version": 3
   },
   "file_extension": ".py",
   "mimetype": "text/x-python",
   "name": "python",
   "nbconvert_exporter": "python",
   "pygments_lexer": "ipython3",
   "version": "3.12.7"
  }
 },
 "nbformat": 4,
 "nbformat_minor": 4
}
