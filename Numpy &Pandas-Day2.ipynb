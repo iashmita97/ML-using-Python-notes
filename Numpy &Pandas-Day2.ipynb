{
 "cells": [
  {
   "cell_type": "code",
   "execution_count": 5,
   "id": "2e73b11f",
   "metadata": {},
   "outputs": [],
   "source": [
    "#!pip install pandas"
   ]
  },
  {
   "cell_type": "code",
   "execution_count": 6,
   "id": "ff425a36",
   "metadata": {},
   "outputs": [],
   "source": [
    "# importing required modules\n",
    "import numpy as np\n",
    "import pandas as pd"
   ]
  },
  {
   "cell_type": "code",
   "execution_count": 7,
   "id": "e4aba428",
   "metadata": {},
   "outputs": [
    {
     "name": "stdout",
     "output_type": "stream",
     "text": [
      "2.3.2\n",
      "2.3.1\n"
     ]
    }
   ],
   "source": [
    "# versions\n",
    "print(np.__version__)\n",
    "print(pd.__version__)"
   ]
  },
  {
   "cell_type": "code",
   "execution_count": 8,
   "id": "d1786165",
   "metadata": {},
   "outputs": [],
   "source": [
    "import warnings\n",
    "warnings.filterwarnings('ignore')"
   ]
  },
  {
   "cell_type": "code",
   "execution_count": 9,
   "id": "9ce38c9b",
   "metadata": {},
   "outputs": [
    {
     "name": "stdout",
     "output_type": "stream",
     "text": [
      "Series([], dtype: object)\n",
      "0 <class 'pandas.core.series.Series'> 2725143946064\n"
     ]
    }
   ],
   "source": [
    "# creating empty series\n",
    "s = pd.Series()\n",
    "print(s)\n",
    "print(len(s), type(s), id(s))"
   ]
  },
  {
   "cell_type": "code",
   "execution_count": 10,
   "id": "a8d7743d",
   "metadata": {},
   "outputs": [
    {
     "name": "stdout",
     "output_type": "stream",
     "text": [
      "['apple' 'banana' 'guava' 'pineapple'] <class 'numpy.ndarray'>\n",
      "0        apple\n",
      "1       banana\n",
      "2        guava\n",
      "3    pineapple\n",
      "dtype: object\n",
      "<class 'pandas.core.series.Series'>\n",
      "apple pineapple guava\n",
      "0     apple\n",
      "1    banana\n",
      "dtype: object\n",
      "2        guava\n",
      "3    pineapple\n",
      "dtype: object\n"
     ]
    }
   ],
   "source": [
    "# creating series from ndarray\n",
    "arr_data = np.array(['apple','banana','guava','pineapple'])\n",
    "print(arr_data, type(arr_data))\n",
    "s = pd.Series(data = arr_data)\n",
    "print(s)\n",
    "print(type(s))\n",
    "print(s[0], s[3], s[2])  # indexing\n",
    "print(s[:2])  # slicing\n",
    "print(s[2:])  # slicing"
   ]
  },
  {
   "cell_type": "code",
   "execution_count": 11,
   "id": "70e411b2",
   "metadata": {},
   "outputs": [
    {
     "name": "stdout",
     "output_type": "stream",
     "text": [
      "[100 300 200 500 400] <class 'numpy.ndarray'>\n",
      "0    100\n",
      "1    300\n",
      "2    200\n",
      "3    500\n",
      "4    400\n",
      "dtype: int64\n",
      "<class 'pandas.core.series.Series'>\n",
      "[999 300 888 500 400] <class 'numpy.ndarray'>\n",
      "0    999\n",
      "1    300\n",
      "2    888\n",
      "3    500\n",
      "4    400\n",
      "dtype: int64\n"
     ]
    }
   ],
   "source": [
    "arr_data = np.array([100, 300, 200, 500, 400])\n",
    "print(arr_data, type(arr_data))\n",
    "s = pd.Series(data = arr_data, copy=False)\n",
    "print(s)\n",
    "print(type(s))\n",
    "s[2] = 888\n",
    "arr_data[0] = 999\n",
    "print(arr_data, type(arr_data))\n",
    "print(s)"
   ]
  },
  {
   "cell_type": "code",
   "execution_count": 12,
   "id": "3541e74b",
   "metadata": {},
   "outputs": [
    {
     "name": "stdout",
     "output_type": "stream",
     "text": [
      "[100 300 200 500 400] <class 'numpy.ndarray'>\n",
      "0    100\n",
      "1    300\n",
      "2    200\n",
      "3    500\n",
      "4    400\n",
      "dtype: int64\n",
      "<class 'pandas.core.series.Series'>\n",
      "[999 300 200 500 400] <class 'numpy.ndarray'>\n",
      "0    100\n",
      "1    300\n",
      "2    888\n",
      "3    500\n",
      "4    400\n",
      "dtype: int64\n"
     ]
    }
   ],
   "source": [
    "arr_data = np.array([100, 300, 200, 500, 400])\n",
    "print(arr_data, type(arr_data))\n",
    "s = pd.Series(data = arr_data, copy=True)\n",
    "print(s)\n",
    "print(type(s))\n",
    "s[2] = 888\n",
    "arr_data[0] = 999\n",
    "print(arr_data, type(arr_data))\n",
    "print(s)"
   ]
  },
  {
   "cell_type": "code",
   "execution_count": 13,
   "id": "7640b5e7",
   "metadata": {},
   "outputs": [
    {
     "name": "stdout",
     "output_type": "stream",
     "text": [
      "['apple' 'banana' 'guava' 'pineapple'] <class 'numpy.ndarray'>\n",
      "101        apple\n",
      "102       banana\n",
      "103        guava\n",
      "104    pineapple\n",
      "dtype: object\n",
      "<class 'pandas.core.series.Series'>\n",
      "banana\n"
     ]
    }
   ],
   "source": [
    "arr_data = np.array(['apple','banana','guava','pineapple'])\n",
    "print(arr_data, type(arr_data))\n",
    "s = pd.Series(data = arr_data, index = [101, 102, 103, 104])\n",
    "print(s)\n",
    "print(type(s))\n",
    "print(s[102])"
   ]
  },
  {
   "cell_type": "code",
   "execution_count": 14,
   "id": "6cb9ec88",
   "metadata": {},
   "outputs": [
    {
     "name": "stdout",
     "output_type": "stream",
     "text": [
      "['apple' 'banana' 'guava' 'pineapple'] <class 'numpy.ndarray'>\n",
      "101        apple\n",
      "103       banana\n",
      "101        guava\n",
      "103    pineapple\n",
      "dtype: object\n",
      "<class 'pandas.core.series.Series'>\n",
      "101    apple\n",
      "101    guava\n",
      "dtype: object\n",
      "103       banana\n",
      "103    pineapple\n",
      "dtype: object\n"
     ]
    }
   ],
   "source": [
    "arr_data = np.array(['apple','banana','guava','pineapple'])\n",
    "print(arr_data, type(arr_data))\n",
    "s = pd.Series(data = arr_data, index = [101, 103, 101, 103])\n",
    "print(s)\n",
    "print(type(s))\n",
    "print(s[101])\n",
    "print(s[103])"
   ]
  },
  {
   "cell_type": "code",
   "execution_count": 15,
   "id": "c44918df",
   "metadata": {},
   "outputs": [
    {
     "name": "stdout",
     "output_type": "stream",
     "text": [
      "['apple' 'banana' 'guava' 'pineapple'] <class 'numpy.ndarray'>\n",
      "fruits-1        apple\n",
      "fruits-2       banana\n",
      "fruits-3        guava\n",
      "fruits-2    pineapple\n",
      "dtype: object\n",
      "<class 'pandas.core.series.Series'>\n",
      "apple apple\n",
      "guava guava\n",
      "fruits-2       banana\n",
      "fruits-2    pineapple\n",
      "dtype: object\n"
     ]
    }
   ],
   "source": [
    "arr_data = np.array(['apple','banana','guava','pineapple'])\n",
    "print(arr_data, type(arr_data))\n",
    "s = pd.Series(data = arr_data, index = ['fruits-1','fruits-2','fruits-3','fruits-2'])\n",
    "print(s)\n",
    "print(type(s))\n",
    "print(s['fruits-1'], s[0])\n",
    "print(s['fruits-3'], s[2])\n",
    "print(s['fruits-2'])\n"
   ]
  },
  {
   "cell_type": "code",
   "execution_count": 16,
   "id": "42b8eca8",
   "metadata": {},
   "outputs": [
    {
     "name": "stdout",
     "output_type": "stream",
     "text": [
      "{'apple': 100, 'banana': 250, 'orange': 750, 'lime': 550} <class 'dict'>\n",
      "apple     100\n",
      "banana    250\n",
      "orange    750\n",
      "lime      550\n",
      "dtype: int64\n",
      "<class 'pandas.core.series.Series'>\n"
     ]
    }
   ],
   "source": [
    "# creating series from a dictionary\n",
    "dict_data = {'apple':100, 'banana':250, 'orange':750, 'lime':550}\n",
    "print(dict_data, type(dict_data))\n",
    "s = pd.Series(data=dict_data)\n",
    "print(s)\n",
    "print(type(s))"
   ]
  },
  {
   "cell_type": "code",
   "execution_count": 17,
   "id": "de1a5750",
   "metadata": {},
   "outputs": [
    {
     "name": "stdout",
     "output_type": "stream",
     "text": [
      "{'apple': 100, 'banana': 250, 'orange': 750, 'lime': 550} <class 'dict'>\n",
      "apple     100.0\n",
      "lime      550.0\n",
      "orange    750.0\n",
      "banana    250.0\n",
      "banana    250.0\n",
      "lemon       NaN\n",
      "dtype: float64\n",
      "<class 'pandas.core.series.Series'>\n",
      "100.0 100.0\n",
      "apple     100.0\n",
      "lime      550.0\n",
      "orange    750.0\n",
      "dtype: float64\n"
     ]
    }
   ],
   "source": [
    "dict_data = {'apple':100, 'banana':250, 'orange':750, 'lime':550}\n",
    "print(dict_data, type(dict_data))\n",
    "s = pd.Series(data=dict_data, index = ['apple','lime','orange','banana','banana','lemon'])\n",
    "print(s)\n",
    "print(type(s))\n",
    "print(s[0], s['apple'])\n",
    "print(s[:3])"
   ]
  },
  {
   "cell_type": "code",
   "execution_count": 18,
   "id": "8a3ee7d0",
   "metadata": {},
   "outputs": [
    {
     "name": "stdout",
     "output_type": "stream",
     "text": [
      "0    5\n",
      "1    5\n",
      "2    5\n",
      "3    5\n",
      "4    5\n",
      "5    5\n",
      "dtype: int64\n"
     ]
    }
   ],
   "source": [
    "# create Series from a scalar\n",
    "s = pd.Series(5, index = [0, 1, 2, 3, 4, 5])\n",
    "print(s)"
   ]
  },
  {
   "cell_type": "code",
   "execution_count": 19,
   "id": "b30163b4",
   "metadata": {},
   "outputs": [
    {
     "name": "stdout",
     "output_type": "stream",
     "text": [
      "0    5\n",
      "2    5\n",
      "4    5\n",
      "dtype: int64\n"
     ]
    }
   ],
   "source": [
    "s = pd.Series(5, index = range(0, 6, 2))\n",
    "print(s)"
   ]
  },
  {
   "cell_type": "code",
   "execution_count": 20,
   "id": "a5b17c6c",
   "metadata": {},
   "outputs": [
    {
     "name": "stdout",
     "output_type": "stream",
     "text": [
      "[101, 202, 404, 303, 505] <class 'list'>\n",
      "red        101\n",
      "green      202\n",
      "brown      404\n",
      "blue       303\n",
      "magenta    505\n",
      "dtype: int64\n",
      "101 101 505 505\n",
      "505 505\n",
      "brown      404\n",
      "blue       303\n",
      "magenta    505\n",
      "dtype: int64\n",
      "red      101\n",
      "green    202\n",
      "brown    404\n",
      "blue     303\n",
      "dtype: int64\n"
     ]
    }
   ],
   "source": [
    "# creating Series from a list\n",
    "list_data = [101, 202, 404, 303, 505]\n",
    "print(list_data, type(list_data))\n",
    "s = pd.Series(data=list_data, index=['red','green','brown','blue','magenta'])\n",
    "print(s)\n",
    "print(s[0], s['red'], s[4], s['magenta'])  # indexing\n",
    "print(s[-1], s['magenta'])  # indexing\n",
    "print(s[2:])  # slicing (2nd inde onwards)\n",
    "print(s[:-1])  # slicing (from first index till the last but one)"
   ]
  },
  {
   "cell_type": "code",
   "execution_count": 21,
   "id": "25b4a871",
   "metadata": {},
   "outputs": [
    {
     "name": "stdout",
     "output_type": "stream",
     "text": [
      "red        101\n",
      "green      202\n",
      "brown      404\n",
      "blue       303\n",
      "magenta    505\n",
      "dtype: int64\n",
      "blue       303\n",
      "brown      404\n",
      "green      202\n",
      "magenta    505\n",
      "red        101\n",
      "dtype: int64\n",
      "red        101\n",
      "green      202\n",
      "blue       303\n",
      "brown      404\n",
      "magenta    505\n",
      "dtype: int64\n",
      "0 4 5 5 303.0 25502.5 159.69502183850315 505 101 1515\n"
     ]
    }
   ],
   "source": [
    "print(s)\n",
    "print(s.sort_index())\n",
    "print(s.sort_values())\n",
    "print(s.argmin(), s.argmax(), len(s), s.count(), s.mean(), s.var(), s.std(), s.max(), s.min(), s.sum())"
   ]
  },
  {
   "cell_type": "code",
   "execution_count": 22,
   "id": "46836586",
   "metadata": {},
   "outputs": [],
   "source": [
    "import pandas as pd\n",
    "import numpy as np"
   ]
  },
  {
   "cell_type": "code",
   "execution_count": 23,
   "id": "fe904128",
   "metadata": {},
   "outputs": [
    {
     "data": {
      "text/html": [
       "<div>\n",
       "<style scoped>\n",
       "    .dataframe tbody tr th:only-of-type {\n",
       "        vertical-align: middle;\n",
       "    }\n",
       "\n",
       "    .dataframe tbody tr th {\n",
       "        vertical-align: top;\n",
       "    }\n",
       "\n",
       "    .dataframe thead th {\n",
       "        text-align: right;\n",
       "    }\n",
       "</style>\n",
       "<table border=\"1\" class=\"dataframe\">\n",
       "  <thead>\n",
       "    <tr style=\"text-align: right;\">\n",
       "      <th></th>\n",
       "      <th>name</th>\n",
       "      <th>age</th>\n",
       "      <th>gender</th>\n",
       "      <th>job</th>\n",
       "    </tr>\n",
       "  </thead>\n",
       "  <tbody>\n",
       "    <tr>\n",
       "      <th>0</th>\n",
       "      <td>alice</td>\n",
       "      <td>19</td>\n",
       "      <td>F</td>\n",
       "      <td>student</td>\n",
       "    </tr>\n",
       "    <tr>\n",
       "      <th>1</th>\n",
       "      <td>john</td>\n",
       "      <td>26</td>\n",
       "      <td>M</td>\n",
       "      <td>student</td>\n",
       "    </tr>\n",
       "  </tbody>\n",
       "</table>\n",
       "</div>"
      ],
      "text/plain": [
       "    name  age gender      job\n",
       "0  alice   19      F  student\n",
       "1   john   26      M  student"
      ]
     },
     "execution_count": 23,
     "metadata": {},
     "output_type": "execute_result"
    }
   ],
   "source": [
    "user_data = [['alice',19,'F','student'],['john',26,'M','student']]\n",
    "user_columns = ['name','age','gender','job']\n",
    "user1 = pd.DataFrame(data=user_data, columns=user_columns)\n",
    "user1"
   ]
  },
  {
   "cell_type": "code",
   "execution_count": 24,
   "id": "b9915b50",
   "metadata": {},
   "outputs": [
    {
     "name": "stdout",
     "output_type": "stream",
     "text": [
      "{'name': ['eric', 'julie'], 'age': [22, 58], 'gender': ['M', 'F'], 'job': ['student', 'manager']} <class 'dict'>\n"
     ]
    },
    {
     "data": {
      "text/html": [
       "<div>\n",
       "<style scoped>\n",
       "    .dataframe tbody tr th:only-of-type {\n",
       "        vertical-align: middle;\n",
       "    }\n",
       "\n",
       "    .dataframe tbody tr th {\n",
       "        vertical-align: top;\n",
       "    }\n",
       "\n",
       "    .dataframe thead th {\n",
       "        text-align: right;\n",
       "    }\n",
       "</style>\n",
       "<table border=\"1\" class=\"dataframe\">\n",
       "  <thead>\n",
       "    <tr style=\"text-align: right;\">\n",
       "      <th></th>\n",
       "      <th>name</th>\n",
       "      <th>age</th>\n",
       "      <th>gender</th>\n",
       "      <th>job</th>\n",
       "    </tr>\n",
       "  </thead>\n",
       "  <tbody>\n",
       "    <tr>\n",
       "      <th>0</th>\n",
       "      <td>eric</td>\n",
       "      <td>22</td>\n",
       "      <td>M</td>\n",
       "      <td>student</td>\n",
       "    </tr>\n",
       "    <tr>\n",
       "      <th>1</th>\n",
       "      <td>julie</td>\n",
       "      <td>58</td>\n",
       "      <td>F</td>\n",
       "      <td>manager</td>\n",
       "    </tr>\n",
       "  </tbody>\n",
       "</table>\n",
       "</div>"
      ],
      "text/plain": [
       "    name  age gender      job\n",
       "0   eric   22      M  student\n",
       "1  julie   58      F  manager"
      ]
     },
     "execution_count": 24,
     "metadata": {},
     "output_type": "execute_result"
    }
   ],
   "source": [
    "user_data = dict(name=['eric','julie'], age=[22,58], gender=['M','F'], job=['student','manager'])\n",
    "print(user_data, type(user_data))\n",
    "user2 = pd.DataFrame(data=user_data)\n",
    "user2"
   ]
  },
  {
   "cell_type": "code",
   "execution_count": 25,
   "id": "4d8691fd",
   "metadata": {},
   "outputs": [
    {
     "name": "stdout",
     "output_type": "stream",
     "text": [
      "{'name': ['peter', 'paul'], 'age': [33, 44], 'gender': ['M', 'F'], 'job': ['engineer', 'scientist']} <class 'dict'>\n"
     ]
    },
    {
     "data": {
      "text/html": [
       "<div>\n",
       "<style scoped>\n",
       "    .dataframe tbody tr th:only-of-type {\n",
       "        vertical-align: middle;\n",
       "    }\n",
       "\n",
       "    .dataframe tbody tr th {\n",
       "        vertical-align: top;\n",
       "    }\n",
       "\n",
       "    .dataframe thead th {\n",
       "        text-align: right;\n",
       "    }\n",
       "</style>\n",
       "<table border=\"1\" class=\"dataframe\">\n",
       "  <thead>\n",
       "    <tr style=\"text-align: right;\">\n",
       "      <th></th>\n",
       "      <th>name</th>\n",
       "      <th>age</th>\n",
       "      <th>gender</th>\n",
       "      <th>job</th>\n",
       "    </tr>\n",
       "  </thead>\n",
       "  <tbody>\n",
       "    <tr>\n",
       "      <th>0</th>\n",
       "      <td>peter</td>\n",
       "      <td>33</td>\n",
       "      <td>M</td>\n",
       "      <td>engineer</td>\n",
       "    </tr>\n",
       "    <tr>\n",
       "      <th>1</th>\n",
       "      <td>paul</td>\n",
       "      <td>44</td>\n",
       "      <td>F</td>\n",
       "      <td>scientist</td>\n",
       "    </tr>\n",
       "  </tbody>\n",
       "</table>\n",
       "</div>"
      ],
      "text/plain": [
       "    name  age gender        job\n",
       "0  peter   33      M   engineer\n",
       "1   paul   44      F  scientist"
      ]
     },
     "execution_count": 25,
     "metadata": {},
     "output_type": "execute_result"
    }
   ],
   "source": [
    "user_data = {'name':['peter','paul'], 'age':[33,44], 'gender':['M','F'], 'job':['engineer','scientist']}\n",
    "print(user_data, type(user_data))\n",
    "user3 = pd.DataFrame(data=user_data)\n",
    "user3"
   ]
  },
  {
   "cell_type": "code",
   "execution_count": 26,
   "id": "8969eda0",
   "metadata": {},
   "outputs": [
    {
     "data": {
      "text/html": [
       "<div>\n",
       "<style scoped>\n",
       "    .dataframe tbody tr th:only-of-type {\n",
       "        vertical-align: middle;\n",
       "    }\n",
       "\n",
       "    .dataframe tbody tr th {\n",
       "        vertical-align: top;\n",
       "    }\n",
       "\n",
       "    .dataframe thead th {\n",
       "        text-align: right;\n",
       "    }\n",
       "</style>\n",
       "<table border=\"1\" class=\"dataframe\">\n",
       "  <thead>\n",
       "    <tr style=\"text-align: right;\">\n",
       "      <th></th>\n",
       "      <th>name</th>\n",
       "      <th>age</th>\n",
       "      <th>gender</th>\n",
       "      <th>job</th>\n",
       "    </tr>\n",
       "  </thead>\n",
       "  <tbody>\n",
       "    <tr>\n",
       "      <th>0</th>\n",
       "      <td>alice</td>\n",
       "      <td>19</td>\n",
       "      <td>F</td>\n",
       "      <td>student</td>\n",
       "    </tr>\n",
       "    <tr>\n",
       "      <th>1</th>\n",
       "      <td>john</td>\n",
       "      <td>26</td>\n",
       "      <td>M</td>\n",
       "      <td>student</td>\n",
       "    </tr>\n",
       "    <tr>\n",
       "      <th>2</th>\n",
       "      <td>eric</td>\n",
       "      <td>22</td>\n",
       "      <td>M</td>\n",
       "      <td>student</td>\n",
       "    </tr>\n",
       "    <tr>\n",
       "      <th>3</th>\n",
       "      <td>julie</td>\n",
       "      <td>58</td>\n",
       "      <td>F</td>\n",
       "      <td>manager</td>\n",
       "    </tr>\n",
       "    <tr>\n",
       "      <th>4</th>\n",
       "      <td>peter</td>\n",
       "      <td>33</td>\n",
       "      <td>M</td>\n",
       "      <td>engineer</td>\n",
       "    </tr>\n",
       "    <tr>\n",
       "      <th>5</th>\n",
       "      <td>paul</td>\n",
       "      <td>44</td>\n",
       "      <td>F</td>\n",
       "      <td>scientist</td>\n",
       "    </tr>\n",
       "  </tbody>\n",
       "</table>\n",
       "</div>"
      ],
      "text/plain": [
       "    name  age gender        job\n",
       "0  alice   19      F    student\n",
       "1   john   26      M    student\n",
       "2   eric   22      M    student\n",
       "3  julie   58      F    manager\n",
       "4  peter   33      M   engineer\n",
       "5   paul   44      F  scientist"
      ]
     },
     "execution_count": 26,
     "metadata": {},
     "output_type": "execute_result"
    }
   ],
   "source": [
    "users = pd.concat([user1,user2,user3], ignore_index=True)\n",
    "users"
   ]
  },
  {
   "cell_type": "code",
   "execution_count": 27,
   "id": "18261744",
   "metadata": {},
   "outputs": [
    {
     "name": "stdout",
     "output_type": "stream",
     "text": [
      "[['alice' 19 'F' 'student']\n",
      " ['john' 26 'M' 'student']\n",
      " ['eric' 22 'M' 'student']\n",
      " ['julie' 58 'F' 'manager']\n",
      " ['peter' 33 'M' 'engineer']\n",
      " ['paul' 44 'F' 'scientist']] <class 'numpy.ndarray'>\n",
      "[['alice' 19 'F' 'student']\n",
      " ['john' 26 'M' 'student']\n",
      " ['eric' 22 'M' 'student']\n",
      " ['julie' 58 'F' 'manager']\n",
      " ['peter' 33 'M' 'engineer']\n",
      " ['paul' 44 'F' 'scientist']] <class 'numpy.ndarray'>\n"
     ]
    }
   ],
   "source": [
    "arr_data = np.array(users)\n",
    "print(arr_data, type(arr_data))\n",
    "arr_data = users.to_numpy()\n",
    "print(arr_data, type(arr_data))"
   ]
  },
  {
   "cell_type": "code",
   "execution_count": 28,
   "id": "169d12da",
   "metadata": {},
   "outputs": [
    {
     "data": {
      "text/html": [
       "<div>\n",
       "<style scoped>\n",
       "    .dataframe tbody tr th:only-of-type {\n",
       "        vertical-align: middle;\n",
       "    }\n",
       "\n",
       "    .dataframe tbody tr th {\n",
       "        vertical-align: top;\n",
       "    }\n",
       "\n",
       "    .dataframe thead th {\n",
       "        text-align: right;\n",
       "    }\n",
       "</style>\n",
       "<table border=\"1\" class=\"dataframe\">\n",
       "  <thead>\n",
       "    <tr style=\"text-align: right;\">\n",
       "      <th></th>\n",
       "      <th>name</th>\n",
       "      <th>height</th>\n",
       "    </tr>\n",
       "  </thead>\n",
       "  <tbody>\n",
       "    <tr>\n",
       "      <th>0</th>\n",
       "      <td>alice</td>\n",
       "      <td>165</td>\n",
       "    </tr>\n",
       "    <tr>\n",
       "      <th>1</th>\n",
       "      <td>john</td>\n",
       "      <td>180</td>\n",
       "    </tr>\n",
       "    <tr>\n",
       "      <th>2</th>\n",
       "      <td>eric</td>\n",
       "      <td>175</td>\n",
       "    </tr>\n",
       "    <tr>\n",
       "      <th>3</th>\n",
       "      <td>julie</td>\n",
       "      <td>180</td>\n",
       "    </tr>\n",
       "    <tr>\n",
       "      <th>4</th>\n",
       "      <td>andrew</td>\n",
       "      <td>185</td>\n",
       "    </tr>\n",
       "  </tbody>\n",
       "</table>\n",
       "</div>"
      ],
      "text/plain": [
       "     name  height\n",
       "0   alice     165\n",
       "1    john     180\n",
       "2    eric     175\n",
       "3   julie     180\n",
       "4  andrew     185"
      ]
     },
     "execution_count": 28,
     "metadata": {},
     "output_type": "execute_result"
    }
   ],
   "source": [
    "dict_data = dict(name=['alice','john','eric','julie','andrew'],height=[165,180,175,180,185])\n",
    "user4 = pd.DataFrame(data=dict_data)\n",
    "user4"
   ]
  },
  {
   "cell_type": "code",
   "execution_count": 29,
   "id": "3dd8ad01",
   "metadata": {},
   "outputs": [
    {
     "data": {
      "text/html": [
       "<div>\n",
       "<style scoped>\n",
       "    .dataframe tbody tr th:only-of-type {\n",
       "        vertical-align: middle;\n",
       "    }\n",
       "\n",
       "    .dataframe tbody tr th {\n",
       "        vertical-align: top;\n",
       "    }\n",
       "\n",
       "    .dataframe thead th {\n",
       "        text-align: right;\n",
       "    }\n",
       "</style>\n",
       "<table border=\"1\" class=\"dataframe\">\n",
       "  <thead>\n",
       "    <tr style=\"text-align: right;\">\n",
       "      <th></th>\n",
       "      <th>name</th>\n",
       "      <th>age</th>\n",
       "      <th>gender</th>\n",
       "      <th>job</th>\n",
       "      <th>height</th>\n",
       "    </tr>\n",
       "  </thead>\n",
       "  <tbody>\n",
       "    <tr>\n",
       "      <th>0</th>\n",
       "      <td>alice</td>\n",
       "      <td>19</td>\n",
       "      <td>F</td>\n",
       "      <td>student</td>\n",
       "      <td>165</td>\n",
       "    </tr>\n",
       "    <tr>\n",
       "      <th>1</th>\n",
       "      <td>john</td>\n",
       "      <td>26</td>\n",
       "      <td>M</td>\n",
       "      <td>student</td>\n",
       "      <td>180</td>\n",
       "    </tr>\n",
       "    <tr>\n",
       "      <th>2</th>\n",
       "      <td>eric</td>\n",
       "      <td>22</td>\n",
       "      <td>M</td>\n",
       "      <td>student</td>\n",
       "      <td>175</td>\n",
       "    </tr>\n",
       "    <tr>\n",
       "      <th>3</th>\n",
       "      <td>julie</td>\n",
       "      <td>58</td>\n",
       "      <td>F</td>\n",
       "      <td>manager</td>\n",
       "      <td>180</td>\n",
       "    </tr>\n",
       "  </tbody>\n",
       "</table>\n",
       "</div>"
      ],
      "text/plain": [
       "    name  age gender      job  height\n",
       "0  alice   19      F  student     165\n",
       "1   john   26      M  student     180\n",
       "2   eric   22      M  student     175\n",
       "3  julie   58      F  manager     180"
      ]
     },
     "execution_count": 29,
     "metadata": {},
     "output_type": "execute_result"
    }
   ],
   "source": [
    "merge_inner = pd.merge(users, user4, on='name', how='inner')\n",
    "merge_inner"
   ]
  },
  {
   "cell_type": "code",
   "execution_count": 30,
   "id": "5260abe3",
   "metadata": {},
   "outputs": [
    {
     "data": {
      "text/html": [
       "<div>\n",
       "<style scoped>\n",
       "    .dataframe tbody tr th:only-of-type {\n",
       "        vertical-align: middle;\n",
       "    }\n",
       "\n",
       "    .dataframe tbody tr th {\n",
       "        vertical-align: top;\n",
       "    }\n",
       "\n",
       "    .dataframe thead th {\n",
       "        text-align: right;\n",
       "    }\n",
       "</style>\n",
       "<table border=\"1\" class=\"dataframe\">\n",
       "  <thead>\n",
       "    <tr style=\"text-align: right;\">\n",
       "      <th></th>\n",
       "      <th>name</th>\n",
       "      <th>age</th>\n",
       "      <th>gender</th>\n",
       "      <th>job</th>\n",
       "      <th>height</th>\n",
       "    </tr>\n",
       "  </thead>\n",
       "  <tbody>\n",
       "    <tr>\n",
       "      <th>0</th>\n",
       "      <td>alice</td>\n",
       "      <td>19.0</td>\n",
       "      <td>F</td>\n",
       "      <td>student</td>\n",
       "      <td>165.0</td>\n",
       "    </tr>\n",
       "    <tr>\n",
       "      <th>1</th>\n",
       "      <td>andrew</td>\n",
       "      <td>NaN</td>\n",
       "      <td>NaN</td>\n",
       "      <td>NaN</td>\n",
       "      <td>185.0</td>\n",
       "    </tr>\n",
       "    <tr>\n",
       "      <th>2</th>\n",
       "      <td>eric</td>\n",
       "      <td>22.0</td>\n",
       "      <td>M</td>\n",
       "      <td>student</td>\n",
       "      <td>175.0</td>\n",
       "    </tr>\n",
       "    <tr>\n",
       "      <th>3</th>\n",
       "      <td>john</td>\n",
       "      <td>26.0</td>\n",
       "      <td>M</td>\n",
       "      <td>student</td>\n",
       "      <td>180.0</td>\n",
       "    </tr>\n",
       "    <tr>\n",
       "      <th>4</th>\n",
       "      <td>julie</td>\n",
       "      <td>58.0</td>\n",
       "      <td>F</td>\n",
       "      <td>manager</td>\n",
       "      <td>180.0</td>\n",
       "    </tr>\n",
       "    <tr>\n",
       "      <th>5</th>\n",
       "      <td>paul</td>\n",
       "      <td>44.0</td>\n",
       "      <td>F</td>\n",
       "      <td>scientist</td>\n",
       "      <td>NaN</td>\n",
       "    </tr>\n",
       "    <tr>\n",
       "      <th>6</th>\n",
       "      <td>peter</td>\n",
       "      <td>33.0</td>\n",
       "      <td>M</td>\n",
       "      <td>engineer</td>\n",
       "      <td>NaN</td>\n",
       "    </tr>\n",
       "  </tbody>\n",
       "</table>\n",
       "</div>"
      ],
      "text/plain": [
       "     name   age gender        job  height\n",
       "0   alice  19.0      F    student   165.0\n",
       "1  andrew   NaN    NaN        NaN   185.0\n",
       "2    eric  22.0      M    student   175.0\n",
       "3    john  26.0      M    student   180.0\n",
       "4   julie  58.0      F    manager   180.0\n",
       "5    paul  44.0      F  scientist     NaN\n",
       "6   peter  33.0      M   engineer     NaN"
      ]
     },
     "execution_count": 30,
     "metadata": {},
     "output_type": "execute_result"
    }
   ],
   "source": [
    "merge_outer = pd.merge(users, user4, on='name', how='outer')\n",
    "merge_outer"
   ]
  },
  {
   "cell_type": "code",
   "execution_count": 31,
   "id": "c929fdcf",
   "metadata": {},
   "outputs": [
    {
     "data": {
      "text/html": [
       "<div>\n",
       "<style scoped>\n",
       "    .dataframe tbody tr th:only-of-type {\n",
       "        vertical-align: middle;\n",
       "    }\n",
       "\n",
       "    .dataframe tbody tr th {\n",
       "        vertical-align: top;\n",
       "    }\n",
       "\n",
       "    .dataframe thead th {\n",
       "        text-align: right;\n",
       "    }\n",
       "</style>\n",
       "<table border=\"1\" class=\"dataframe\">\n",
       "  <thead>\n",
       "    <tr style=\"text-align: right;\">\n",
       "      <th></th>\n",
       "      <th>name</th>\n",
       "      <th>age</th>\n",
       "      <th>gender</th>\n",
       "      <th>job</th>\n",
       "      <th>height</th>\n",
       "    </tr>\n",
       "  </thead>\n",
       "  <tbody>\n",
       "    <tr>\n",
       "      <th>0</th>\n",
       "      <td>alice</td>\n",
       "      <td>19</td>\n",
       "      <td>F</td>\n",
       "      <td>student</td>\n",
       "      <td>165.0</td>\n",
       "    </tr>\n",
       "    <tr>\n",
       "      <th>1</th>\n",
       "      <td>john</td>\n",
       "      <td>26</td>\n",
       "      <td>M</td>\n",
       "      <td>student</td>\n",
       "      <td>180.0</td>\n",
       "    </tr>\n",
       "    <tr>\n",
       "      <th>2</th>\n",
       "      <td>eric</td>\n",
       "      <td>22</td>\n",
       "      <td>M</td>\n",
       "      <td>student</td>\n",
       "      <td>175.0</td>\n",
       "    </tr>\n",
       "    <tr>\n",
       "      <th>3</th>\n",
       "      <td>julie</td>\n",
       "      <td>58</td>\n",
       "      <td>F</td>\n",
       "      <td>manager</td>\n",
       "      <td>180.0</td>\n",
       "    </tr>\n",
       "    <tr>\n",
       "      <th>4</th>\n",
       "      <td>peter</td>\n",
       "      <td>33</td>\n",
       "      <td>M</td>\n",
       "      <td>engineer</td>\n",
       "      <td>NaN</td>\n",
       "    </tr>\n",
       "    <tr>\n",
       "      <th>5</th>\n",
       "      <td>paul</td>\n",
       "      <td>44</td>\n",
       "      <td>F</td>\n",
       "      <td>scientist</td>\n",
       "      <td>NaN</td>\n",
       "    </tr>\n",
       "  </tbody>\n",
       "</table>\n",
       "</div>"
      ],
      "text/plain": [
       "    name  age gender        job  height\n",
       "0  alice   19      F    student   165.0\n",
       "1   john   26      M    student   180.0\n",
       "2   eric   22      M    student   175.0\n",
       "3  julie   58      F    manager   180.0\n",
       "4  peter   33      M   engineer     NaN\n",
       "5   paul   44      F  scientist     NaN"
      ]
     },
     "execution_count": 31,
     "metadata": {},
     "output_type": "execute_result"
    }
   ],
   "source": [
    "merge_left = pd.merge(users, user4, on='name', how='left')\n",
    "merge_left"
   ]
  },
  {
   "cell_type": "code",
   "execution_count": 32,
   "id": "0aed6dfb",
   "metadata": {},
   "outputs": [
    {
     "data": {
      "text/html": [
       "<div>\n",
       "<style scoped>\n",
       "    .dataframe tbody tr th:only-of-type {\n",
       "        vertical-align: middle;\n",
       "    }\n",
       "\n",
       "    .dataframe tbody tr th {\n",
       "        vertical-align: top;\n",
       "    }\n",
       "\n",
       "    .dataframe thead th {\n",
       "        text-align: right;\n",
       "    }\n",
       "</style>\n",
       "<table border=\"1\" class=\"dataframe\">\n",
       "  <thead>\n",
       "    <tr style=\"text-align: right;\">\n",
       "      <th></th>\n",
       "      <th>name</th>\n",
       "      <th>age</th>\n",
       "      <th>gender</th>\n",
       "      <th>job</th>\n",
       "      <th>height</th>\n",
       "    </tr>\n",
       "  </thead>\n",
       "  <tbody>\n",
       "    <tr>\n",
       "      <th>0</th>\n",
       "      <td>alice</td>\n",
       "      <td>19.0</td>\n",
       "      <td>F</td>\n",
       "      <td>student</td>\n",
       "      <td>165</td>\n",
       "    </tr>\n",
       "    <tr>\n",
       "      <th>1</th>\n",
       "      <td>john</td>\n",
       "      <td>26.0</td>\n",
       "      <td>M</td>\n",
       "      <td>student</td>\n",
       "      <td>180</td>\n",
       "    </tr>\n",
       "    <tr>\n",
       "      <th>2</th>\n",
       "      <td>eric</td>\n",
       "      <td>22.0</td>\n",
       "      <td>M</td>\n",
       "      <td>student</td>\n",
       "      <td>175</td>\n",
       "    </tr>\n",
       "    <tr>\n",
       "      <th>3</th>\n",
       "      <td>julie</td>\n",
       "      <td>58.0</td>\n",
       "      <td>F</td>\n",
       "      <td>manager</td>\n",
       "      <td>180</td>\n",
       "    </tr>\n",
       "    <tr>\n",
       "      <th>4</th>\n",
       "      <td>andrew</td>\n",
       "      <td>NaN</td>\n",
       "      <td>NaN</td>\n",
       "      <td>NaN</td>\n",
       "      <td>185</td>\n",
       "    </tr>\n",
       "  </tbody>\n",
       "</table>\n",
       "</div>"
      ],
      "text/plain": [
       "     name   age gender      job  height\n",
       "0   alice  19.0      F  student     165\n",
       "1    john  26.0      M  student     180\n",
       "2    eric  22.0      M  student     175\n",
       "3   julie  58.0      F  manager     180\n",
       "4  andrew   NaN    NaN      NaN     185"
      ]
     },
     "execution_count": 32,
     "metadata": {},
     "output_type": "execute_result"
    }
   ],
   "source": [
    "merge_right = pd.merge(users, user4, on='name', how='right')\n",
    "merge_right"
   ]
  },
  {
   "cell_type": "code",
   "execution_count": 33,
   "id": "85ac95ce",
   "metadata": {},
   "outputs": [
    {
     "name": "stdout",
     "output_type": "stream",
     "text": [
      "<class 'pandas.core.frame.DataFrame'>\n",
      "(6, 4) 24 6\n",
      "No. of rows = 6 and cols = 4\n",
      "name      object\n",
      "age        int64\n",
      "gender    object\n",
      "job       object\n",
      "dtype: object\n"
     ]
    }
   ],
   "source": [
    "print(type(users))\n",
    "print(users.shape, users.size, len(users))\n",
    "print(f\"No. of rows = {users.shape[0]} and cols = {users.shape[1]}\")\n",
    "print(users.dtypes)"
   ]
  },
  {
   "cell_type": "code",
   "execution_count": 34,
   "id": "ae82f600",
   "metadata": {},
   "outputs": [
    {
     "name": "stdout",
     "output_type": "stream",
     "text": [
      "[['alice' 19 'F' 'student']\n",
      " ['john' 26 'M' 'student']\n",
      " ['eric' 22 'M' 'student']\n",
      " ['julie' 58 'F' 'manager']\n",
      " ['peter' 33 'M' 'engineer']\n",
      " ['paul' 44 'F' 'scientist']] <class 'numpy.ndarray'>\n",
      "RangeIndex(start=0, stop=6, step=1) (6, 4) 2\n"
     ]
    }
   ],
   "source": [
    "print(users.values, type(users.values))\n",
    "print(users.index, users.shape, users.ndim)"
   ]
  },
  {
   "cell_type": "code",
   "execution_count": 35,
   "id": "13e4f12b",
   "metadata": {},
   "outputs": [
    {
     "data": {
      "text/html": [
       "<div>\n",
       "<style scoped>\n",
       "    .dataframe tbody tr th:only-of-type {\n",
       "        vertical-align: middle;\n",
       "    }\n",
       "\n",
       "    .dataframe tbody tr th {\n",
       "        vertical-align: top;\n",
       "    }\n",
       "\n",
       "    .dataframe thead th {\n",
       "        text-align: right;\n",
       "    }\n",
       "</style>\n",
       "<table border=\"1\" class=\"dataframe\">\n",
       "  <thead>\n",
       "    <tr style=\"text-align: right;\">\n",
       "      <th></th>\n",
       "      <th>name</th>\n",
       "      <th>age</th>\n",
       "      <th>gender</th>\n",
       "      <th>job</th>\n",
       "    </tr>\n",
       "  </thead>\n",
       "  <tbody>\n",
       "    <tr>\n",
       "      <th>0</th>\n",
       "      <td>alice</td>\n",
       "      <td>19</td>\n",
       "      <td>F</td>\n",
       "      <td>student</td>\n",
       "    </tr>\n",
       "    <tr>\n",
       "      <th>1</th>\n",
       "      <td>john</td>\n",
       "      <td>26</td>\n",
       "      <td>M</td>\n",
       "      <td>student</td>\n",
       "    </tr>\n",
       "    <tr>\n",
       "      <th>2</th>\n",
       "      <td>eric</td>\n",
       "      <td>22</td>\n",
       "      <td>M</td>\n",
       "      <td>student</td>\n",
       "    </tr>\n",
       "  </tbody>\n",
       "</table>\n",
       "</div>"
      ],
      "text/plain": [
       "    name  age gender      job\n",
       "0  alice   19      F  student\n",
       "1   john   26      M  student\n",
       "2   eric   22      M  student"
      ]
     },
     "execution_count": 35,
     "metadata": {},
     "output_type": "execute_result"
    }
   ],
   "source": [
    "users.head(3)"
   ]
  },
  {
   "cell_type": "code",
   "execution_count": 36,
   "id": "7fb71a47",
   "metadata": {},
   "outputs": [
    {
     "data": {
      "text/html": [
       "<div>\n",
       "<style scoped>\n",
       "    .dataframe tbody tr th:only-of-type {\n",
       "        vertical-align: middle;\n",
       "    }\n",
       "\n",
       "    .dataframe tbody tr th {\n",
       "        vertical-align: top;\n",
       "    }\n",
       "\n",
       "    .dataframe thead th {\n",
       "        text-align: right;\n",
       "    }\n",
       "</style>\n",
       "<table border=\"1\" class=\"dataframe\">\n",
       "  <thead>\n",
       "    <tr style=\"text-align: right;\">\n",
       "      <th></th>\n",
       "      <th>name</th>\n",
       "      <th>age</th>\n",
       "      <th>gender</th>\n",
       "      <th>job</th>\n",
       "    </tr>\n",
       "  </thead>\n",
       "  <tbody>\n",
       "    <tr>\n",
       "      <th>3</th>\n",
       "      <td>julie</td>\n",
       "      <td>58</td>\n",
       "      <td>F</td>\n",
       "      <td>manager</td>\n",
       "    </tr>\n",
       "    <tr>\n",
       "      <th>4</th>\n",
       "      <td>peter</td>\n",
       "      <td>33</td>\n",
       "      <td>M</td>\n",
       "      <td>engineer</td>\n",
       "    </tr>\n",
       "    <tr>\n",
       "      <th>5</th>\n",
       "      <td>paul</td>\n",
       "      <td>44</td>\n",
       "      <td>F</td>\n",
       "      <td>scientist</td>\n",
       "    </tr>\n",
       "  </tbody>\n",
       "</table>\n",
       "</div>"
      ],
      "text/plain": [
       "    name  age gender        job\n",
       "3  julie   58      F    manager\n",
       "4  peter   33      M   engineer\n",
       "5   paul   44      F  scientist"
      ]
     },
     "execution_count": 36,
     "metadata": {},
     "output_type": "execute_result"
    }
   ],
   "source": [
    "users.tail(3)"
   ]
  },
  {
   "cell_type": "code",
   "execution_count": 37,
   "id": "f184bca8",
   "metadata": {},
   "outputs": [
    {
     "data": {
      "text/html": [
       "<div>\n",
       "<style scoped>\n",
       "    .dataframe tbody tr th:only-of-type {\n",
       "        vertical-align: middle;\n",
       "    }\n",
       "\n",
       "    .dataframe tbody tr th {\n",
       "        vertical-align: top;\n",
       "    }\n",
       "\n",
       "    .dataframe thead th {\n",
       "        text-align: right;\n",
       "    }\n",
       "</style>\n",
       "<table border=\"1\" class=\"dataframe\">\n",
       "  <thead>\n",
       "    <tr style=\"text-align: right;\">\n",
       "      <th></th>\n",
       "      <th>name</th>\n",
       "      <th>age</th>\n",
       "      <th>gender</th>\n",
       "      <th>job</th>\n",
       "    </tr>\n",
       "  </thead>\n",
       "  <tbody>\n",
       "    <tr>\n",
       "      <th>4</th>\n",
       "      <td>peter</td>\n",
       "      <td>33</td>\n",
       "      <td>M</td>\n",
       "      <td>engineer</td>\n",
       "    </tr>\n",
       "    <tr>\n",
       "      <th>5</th>\n",
       "      <td>paul</td>\n",
       "      <td>44</td>\n",
       "      <td>F</td>\n",
       "      <td>scientist</td>\n",
       "    </tr>\n",
       "  </tbody>\n",
       "</table>\n",
       "</div>"
      ],
      "text/plain": [
       "    name  age gender        job\n",
       "4  peter   33      M   engineer\n",
       "5   paul   44      F  scientist"
      ]
     },
     "execution_count": 37,
     "metadata": {},
     "output_type": "execute_result"
    }
   ],
   "source": [
    "users.sample(2)"
   ]
  },
  {
   "cell_type": "code",
   "execution_count": 38,
   "id": "65464e01",
   "metadata": {},
   "outputs": [
    {
     "name": "stdout",
     "output_type": "stream",
     "text": [
      "RangeIndex(start=0, stop=6, step=1)\n",
      "Index(['name', 'age', 'gender', 'job'], dtype='object')\n",
      "name      True\n",
      "age       True\n",
      "gender    True\n",
      "job       True\n",
      "dtype: bool\n"
     ]
    }
   ],
   "source": [
    "print(users.index)\n",
    "print(users.columns)\n",
    "print(users.any())"
   ]
  },
  {
   "cell_type": "code",
   "execution_count": 39,
   "id": "bd7759bd",
   "metadata": {},
   "outputs": [
    {
     "name": "stdout",
     "output_type": "stream",
     "text": [
      "0    F\n",
      "1    M\n",
      "2    M\n",
      "3    F\n",
      "4    M\n",
      "5    F\n",
      "Name: gender, dtype: object\n",
      "gender\n",
      "F    3\n",
      "M    3\n",
      "Name: count, dtype: int64\n"
     ]
    }
   ],
   "source": [
    "print(users.gender)\n",
    "print(users.gender.value_counts())"
   ]
  },
  {
   "cell_type": "code",
   "execution_count": 40,
   "id": "df5a348c",
   "metadata": {},
   "outputs": [
    {
     "name": "stdout",
     "output_type": "stream",
     "text": [
      "0      student\n",
      "1      student\n",
      "2      student\n",
      "3      manager\n",
      "4     engineer\n",
      "5    scientist\n",
      "Name: job, dtype: object\n",
      "job\n",
      "student      3\n",
      "manager      1\n",
      "engineer     1\n",
      "scientist    1\n",
      "Name: count, dtype: int64\n"
     ]
    }
   ],
   "source": [
    "print(users.job)\n",
    "print(users.job.value_counts())"
   ]
  },
  {
   "cell_type": "code",
   "execution_count": 41,
   "id": "2e7844cc",
   "metadata": {},
   "outputs": [
    {
     "data": {
      "text/html": [
       "<div>\n",
       "<style scoped>\n",
       "    .dataframe tbody tr th:only-of-type {\n",
       "        vertical-align: middle;\n",
       "    }\n",
       "\n",
       "    .dataframe tbody tr th {\n",
       "        vertical-align: top;\n",
       "    }\n",
       "\n",
       "    .dataframe thead th {\n",
       "        text-align: right;\n",
       "    }\n",
       "</style>\n",
       "<table border=\"1\" class=\"dataframe\">\n",
       "  <thead>\n",
       "    <tr style=\"text-align: right;\">\n",
       "      <th></th>\n",
       "      <th>age</th>\n",
       "    </tr>\n",
       "  </thead>\n",
       "  <tbody>\n",
       "    <tr>\n",
       "      <th>count</th>\n",
       "      <td>6.000000</td>\n",
       "    </tr>\n",
       "    <tr>\n",
       "      <th>mean</th>\n",
       "      <td>33.666667</td>\n",
       "    </tr>\n",
       "    <tr>\n",
       "      <th>std</th>\n",
       "      <td>14.895189</td>\n",
       "    </tr>\n",
       "    <tr>\n",
       "      <th>min</th>\n",
       "      <td>19.000000</td>\n",
       "    </tr>\n",
       "    <tr>\n",
       "      <th>25%</th>\n",
       "      <td>23.000000</td>\n",
       "    </tr>\n",
       "    <tr>\n",
       "      <th>50%</th>\n",
       "      <td>29.500000</td>\n",
       "    </tr>\n",
       "    <tr>\n",
       "      <th>75%</th>\n",
       "      <td>41.250000</td>\n",
       "    </tr>\n",
       "    <tr>\n",
       "      <th>max</th>\n",
       "      <td>58.000000</td>\n",
       "    </tr>\n",
       "  </tbody>\n",
       "</table>\n",
       "</div>"
      ],
      "text/plain": [
       "             age\n",
       "count   6.000000\n",
       "mean   33.666667\n",
       "std    14.895189\n",
       "min    19.000000\n",
       "25%    23.000000\n",
       "50%    29.500000\n",
       "75%    41.250000\n",
       "max    58.000000"
      ]
     },
     "execution_count": 41,
     "metadata": {},
     "output_type": "execute_result"
    }
   ],
   "source": [
    "users.describe()"
   ]
  },
  {
   "cell_type": "code",
   "execution_count": 42,
   "id": "988192da",
   "metadata": {},
   "outputs": [
    {
     "data": {
      "text/html": [
       "<div>\n",
       "<style scoped>\n",
       "    .dataframe tbody tr th:only-of-type {\n",
       "        vertical-align: middle;\n",
       "    }\n",
       "\n",
       "    .dataframe tbody tr th {\n",
       "        vertical-align: top;\n",
       "    }\n",
       "\n",
       "    .dataframe thead th {\n",
       "        text-align: right;\n",
       "    }\n",
       "</style>\n",
       "<table border=\"1\" class=\"dataframe\">\n",
       "  <thead>\n",
       "    <tr style=\"text-align: right;\">\n",
       "      <th></th>\n",
       "      <th>name</th>\n",
       "      <th>gender</th>\n",
       "      <th>job</th>\n",
       "    </tr>\n",
       "  </thead>\n",
       "  <tbody>\n",
       "    <tr>\n",
       "      <th>count</th>\n",
       "      <td>6</td>\n",
       "      <td>6</td>\n",
       "      <td>6</td>\n",
       "    </tr>\n",
       "    <tr>\n",
       "      <th>unique</th>\n",
       "      <td>6</td>\n",
       "      <td>2</td>\n",
       "      <td>4</td>\n",
       "    </tr>\n",
       "    <tr>\n",
       "      <th>top</th>\n",
       "      <td>alice</td>\n",
       "      <td>F</td>\n",
       "      <td>student</td>\n",
       "    </tr>\n",
       "    <tr>\n",
       "      <th>freq</th>\n",
       "      <td>1</td>\n",
       "      <td>3</td>\n",
       "      <td>3</td>\n",
       "    </tr>\n",
       "  </tbody>\n",
       "</table>\n",
       "</div>"
      ],
      "text/plain": [
       "         name gender      job\n",
       "count       6      6        6\n",
       "unique      6      2        4\n",
       "top     alice      F  student\n",
       "freq        1      3        3"
      ]
     },
     "execution_count": 42,
     "metadata": {},
     "output_type": "execute_result"
    }
   ],
   "source": [
    "users.describe(include = 'object')"
   ]
  },
  {
   "cell_type": "code",
   "execution_count": 43,
   "id": "b27eb63e",
   "metadata": {},
   "outputs": [
    {
     "data": {
      "text/html": [
       "<div>\n",
       "<style scoped>\n",
       "    .dataframe tbody tr th:only-of-type {\n",
       "        vertical-align: middle;\n",
       "    }\n",
       "\n",
       "    .dataframe tbody tr th {\n",
       "        vertical-align: top;\n",
       "    }\n",
       "\n",
       "    .dataframe thead th {\n",
       "        text-align: right;\n",
       "    }\n",
       "</style>\n",
       "<table border=\"1\" class=\"dataframe\">\n",
       "  <thead>\n",
       "    <tr style=\"text-align: right;\">\n",
       "      <th></th>\n",
       "      <th>name</th>\n",
       "      <th>age</th>\n",
       "      <th>gender</th>\n",
       "      <th>job</th>\n",
       "    </tr>\n",
       "  </thead>\n",
       "  <tbody>\n",
       "    <tr>\n",
       "      <th>count</th>\n",
       "      <td>6</td>\n",
       "      <td>6.000000</td>\n",
       "      <td>6</td>\n",
       "      <td>6</td>\n",
       "    </tr>\n",
       "    <tr>\n",
       "      <th>unique</th>\n",
       "      <td>6</td>\n",
       "      <td>NaN</td>\n",
       "      <td>2</td>\n",
       "      <td>4</td>\n",
       "    </tr>\n",
       "    <tr>\n",
       "      <th>top</th>\n",
       "      <td>alice</td>\n",
       "      <td>NaN</td>\n",
       "      <td>F</td>\n",
       "      <td>student</td>\n",
       "    </tr>\n",
       "    <tr>\n",
       "      <th>freq</th>\n",
       "      <td>1</td>\n",
       "      <td>NaN</td>\n",
       "      <td>3</td>\n",
       "      <td>3</td>\n",
       "    </tr>\n",
       "    <tr>\n",
       "      <th>mean</th>\n",
       "      <td>NaN</td>\n",
       "      <td>33.666667</td>\n",
       "      <td>NaN</td>\n",
       "      <td>NaN</td>\n",
       "    </tr>\n",
       "    <tr>\n",
       "      <th>std</th>\n",
       "      <td>NaN</td>\n",
       "      <td>14.895189</td>\n",
       "      <td>NaN</td>\n",
       "      <td>NaN</td>\n",
       "    </tr>\n",
       "    <tr>\n",
       "      <th>min</th>\n",
       "      <td>NaN</td>\n",
       "      <td>19.000000</td>\n",
       "      <td>NaN</td>\n",
       "      <td>NaN</td>\n",
       "    </tr>\n",
       "    <tr>\n",
       "      <th>25%</th>\n",
       "      <td>NaN</td>\n",
       "      <td>23.000000</td>\n",
       "      <td>NaN</td>\n",
       "      <td>NaN</td>\n",
       "    </tr>\n",
       "    <tr>\n",
       "      <th>50%</th>\n",
       "      <td>NaN</td>\n",
       "      <td>29.500000</td>\n",
       "      <td>NaN</td>\n",
       "      <td>NaN</td>\n",
       "    </tr>\n",
       "    <tr>\n",
       "      <th>75%</th>\n",
       "      <td>NaN</td>\n",
       "      <td>41.250000</td>\n",
       "      <td>NaN</td>\n",
       "      <td>NaN</td>\n",
       "    </tr>\n",
       "    <tr>\n",
       "      <th>max</th>\n",
       "      <td>NaN</td>\n",
       "      <td>58.000000</td>\n",
       "      <td>NaN</td>\n",
       "      <td>NaN</td>\n",
       "    </tr>\n",
       "  </tbody>\n",
       "</table>\n",
       "</div>"
      ],
      "text/plain": [
       "         name        age gender      job\n",
       "count       6   6.000000      6        6\n",
       "unique      6        NaN      2        4\n",
       "top     alice        NaN      F  student\n",
       "freq        1        NaN      3        3\n",
       "mean      NaN  33.666667    NaN      NaN\n",
       "std       NaN  14.895189    NaN      NaN\n",
       "min       NaN  19.000000    NaN      NaN\n",
       "25%       NaN  23.000000    NaN      NaN\n",
       "50%       NaN  29.500000    NaN      NaN\n",
       "75%       NaN  41.250000    NaN      NaN\n",
       "max       NaN  58.000000    NaN      NaN"
      ]
     },
     "execution_count": 43,
     "metadata": {},
     "output_type": "execute_result"
    }
   ],
   "source": [
    "users.describe(include = 'all')"
   ]
  },
  {
   "cell_type": "code",
   "execution_count": 44,
   "id": "6c16ae21",
   "metadata": {},
   "outputs": [
    {
     "name": "stdout",
     "output_type": "stream",
     "text": [
      "<class 'pandas.core.frame.DataFrame'>\n",
      "RangeIndex: 6 entries, 0 to 5\n",
      "Data columns (total 4 columns):\n",
      " #   Column  Non-Null Count  Dtype \n",
      "---  ------  --------------  ----- \n",
      " 0   name    6 non-null      object\n",
      " 1   age     6 non-null      int64 \n",
      " 2   gender  6 non-null      object\n",
      " 3   job     6 non-null      object\n",
      "dtypes: int64(1), object(3)\n",
      "memory usage: 324.0+ bytes\n"
     ]
    }
   ],
   "source": [
    "users.info()"
   ]
  },
  {
   "cell_type": "code",
   "execution_count": 45,
   "id": "a541f003",
   "metadata": {},
   "outputs": [
    {
     "data": {
      "text/html": [
       "<div>\n",
       "<style scoped>\n",
       "    .dataframe tbody tr th:only-of-type {\n",
       "        vertical-align: middle;\n",
       "    }\n",
       "\n",
       "    .dataframe tbody tr th {\n",
       "        vertical-align: top;\n",
       "    }\n",
       "\n",
       "    .dataframe thead th {\n",
       "        text-align: right;\n",
       "    }\n",
       "</style>\n",
       "<table border=\"1\" class=\"dataframe\">\n",
       "  <thead>\n",
       "    <tr style=\"text-align: right;\">\n",
       "      <th></th>\n",
       "      <th>count</th>\n",
       "      <th>unique</th>\n",
       "      <th>top</th>\n",
       "      <th>freq</th>\n",
       "      <th>mean</th>\n",
       "      <th>std</th>\n",
       "      <th>min</th>\n",
       "      <th>25%</th>\n",
       "      <th>50%</th>\n",
       "      <th>75%</th>\n",
       "      <th>max</th>\n",
       "    </tr>\n",
       "  </thead>\n",
       "  <tbody>\n",
       "    <tr>\n",
       "      <th>name</th>\n",
       "      <td>6</td>\n",
       "      <td>6</td>\n",
       "      <td>alice</td>\n",
       "      <td>1</td>\n",
       "      <td>NaN</td>\n",
       "      <td>NaN</td>\n",
       "      <td>NaN</td>\n",
       "      <td>NaN</td>\n",
       "      <td>NaN</td>\n",
       "      <td>NaN</td>\n",
       "      <td>NaN</td>\n",
       "    </tr>\n",
       "    <tr>\n",
       "      <th>age</th>\n",
       "      <td>6.0</td>\n",
       "      <td>NaN</td>\n",
       "      <td>NaN</td>\n",
       "      <td>NaN</td>\n",
       "      <td>33.666667</td>\n",
       "      <td>14.895189</td>\n",
       "      <td>19.0</td>\n",
       "      <td>23.0</td>\n",
       "      <td>29.5</td>\n",
       "      <td>41.25</td>\n",
       "      <td>58.0</td>\n",
       "    </tr>\n",
       "    <tr>\n",
       "      <th>gender</th>\n",
       "      <td>6</td>\n",
       "      <td>2</td>\n",
       "      <td>F</td>\n",
       "      <td>3</td>\n",
       "      <td>NaN</td>\n",
       "      <td>NaN</td>\n",
       "      <td>NaN</td>\n",
       "      <td>NaN</td>\n",
       "      <td>NaN</td>\n",
       "      <td>NaN</td>\n",
       "      <td>NaN</td>\n",
       "    </tr>\n",
       "    <tr>\n",
       "      <th>job</th>\n",
       "      <td>6</td>\n",
       "      <td>4</td>\n",
       "      <td>student</td>\n",
       "      <td>3</td>\n",
       "      <td>NaN</td>\n",
       "      <td>NaN</td>\n",
       "      <td>NaN</td>\n",
       "      <td>NaN</td>\n",
       "      <td>NaN</td>\n",
       "      <td>NaN</td>\n",
       "      <td>NaN</td>\n",
       "    </tr>\n",
       "  </tbody>\n",
       "</table>\n",
       "</div>"
      ],
      "text/plain": [
       "       count unique      top freq       mean        std   min   25%   50%  \\\n",
       "name       6      6    alice    1        NaN        NaN   NaN   NaN   NaN   \n",
       "age      6.0    NaN      NaN  NaN  33.666667  14.895189  19.0  23.0  29.5   \n",
       "gender     6      2        F    3        NaN        NaN   NaN   NaN   NaN   \n",
       "job        6      4  student    3        NaN        NaN   NaN   NaN   NaN   \n",
       "\n",
       "          75%   max  \n",
       "name      NaN   NaN  \n",
       "age     41.25  58.0  \n",
       "gender    NaN   NaN  \n",
       "job       NaN   NaN  "
      ]
     },
     "execution_count": 45,
     "metadata": {},
     "output_type": "execute_result"
    }
   ],
   "source": [
    "# users.describe(include = 'all').transpose()\n",
    "users.describe(include = 'all').T"
   ]
  },
  {
   "cell_type": "code",
   "execution_count": 46,
   "id": "e1fbb8ae",
   "metadata": {},
   "outputs": [
    {
     "name": "stdout",
     "output_type": "stream",
     "text": [
      "0    19\n",
      "1    26\n",
      "2    22\n",
      "3    58\n",
      "4    33\n",
      "5    44\n",
      "Name: age, dtype: int64\n",
      "0    19\n",
      "1    26\n",
      "2    22\n",
      "3    58\n",
      "4    33\n",
      "5    44\n",
      "Name: age, dtype: int64\n"
     ]
    }
   ],
   "source": [
    "print(users.age)\n",
    "print(users['age'])\n"
   ]
  },
  {
   "cell_type": "code",
   "execution_count": 47,
   "id": "445a8a0e",
   "metadata": {},
   "outputs": [
    {
     "name": "stdout",
     "output_type": "stream",
     "text": [
      "   age   name\n",
      "0   19  alice\n",
      "1   26   john\n",
      "2   22   eric\n",
      "3   58  julie\n",
      "4   33  peter\n",
      "5   44   paul\n",
      "   age   name        job\n",
      "0   19  alice    student\n",
      "1   26   john    student\n",
      "2   22   eric    student\n",
      "3   58  julie    manager\n",
      "4   33  peter   engineer\n",
      "5   44   paul  scientist\n"
     ]
    }
   ],
   "source": [
    "print(users[['age','name']])\n",
    "my_columns = ['age', 'name', 'job']\n",
    "print(users[my_columns])"
   ]
  },
  {
   "cell_type": "code",
   "execution_count": 48,
   "id": "63d2d6ca",
   "metadata": {},
   "outputs": [
    {
     "name": "stdout",
     "output_type": "stream",
     "text": [
      "name         peter\n",
      "age             33\n",
      "gender           M\n",
      "job       engineer\n",
      "Name: 4, dtype: object <class 'pandas.core.series.Series'>\n",
      "name         peter\n",
      "age             33\n",
      "gender           M\n",
      "job       engineer\n",
      "Name: 4, dtype: object <class 'pandas.core.series.Series'>\n"
     ]
    }
   ],
   "source": [
    "df = users.copy()\n",
    "print(df.iloc[4], type(df.iloc[4]))\n",
    "print(df.loc[4], type(df.loc[4]))"
   ]
  },
  {
   "cell_type": "code",
   "execution_count": 49,
   "id": "c67894b3",
   "metadata": {},
   "outputs": [
    {
     "name": "stdout",
     "output_type": "stream",
     "text": [
      "engineer engineer engineer engineer\n",
      "engineer engineer engineer engineer\n"
     ]
    }
   ],
   "source": [
    "print(df.iloc[4][3], df.iloc[4]['job'], df.loc[4][3], df.loc[4]['job'])\n",
    "print(df.iloc[4, 3], df.iloc[4]['job'], df.loc[4][3], df.loc[4, 'job'])"
   ]
  },
  {
   "cell_type": "code",
   "execution_count": 50,
   "id": "38a8dfe3",
   "metadata": {},
   "outputs": [
    {
     "name": "stdout",
     "output_type": "stream",
     "text": [
      "    name  age gender        job\n",
      "0  alice  119      F    student\n",
      "1   john  126      M    student\n",
      "2   eric  122      M    student\n",
      "3  julie  158      F    manager\n",
      "4  peter  133      M   engineer\n",
      "5   paul  144      F  scientist\n",
      "    name  age gender        job\n",
      "0  alice  219      F    student\n",
      "1   john  226      M    student\n",
      "2   eric  222      M    student\n",
      "3  julie  258      F    manager\n",
      "4  peter  233      M   engineer\n",
      "5   paul  244      F  scientist\n"
     ]
    }
   ],
   "source": [
    "# Class Assignment - 1\n",
    "# Increase all the ages with value 100\n",
    "df = users.copy()\n",
    "df.age = df.age + 100\n",
    "print(df)\n",
    "df.iloc[:, 1] += 100\n",
    "print(df)"
   ]
  },
  {
   "cell_type": "code",
   "execution_count": 51,
   "id": "6e05f506",
   "metadata": {},
   "outputs": [
    {
     "data": {
      "text/html": [
       "<div>\n",
       "<style scoped>\n",
       "    .dataframe tbody tr th:only-of-type {\n",
       "        vertical-align: middle;\n",
       "    }\n",
       "\n",
       "    .dataframe tbody tr th {\n",
       "        vertical-align: top;\n",
       "    }\n",
       "\n",
       "    .dataframe thead th {\n",
       "        text-align: right;\n",
       "    }\n",
       "</style>\n",
       "<table border=\"1\" class=\"dataframe\">\n",
       "  <thead>\n",
       "    <tr style=\"text-align: right;\">\n",
       "      <th></th>\n",
       "      <th>name</th>\n",
       "      <th>age</th>\n",
       "      <th>gender</th>\n",
       "      <th>job</th>\n",
       "    </tr>\n",
       "  </thead>\n",
       "  <tbody>\n",
       "    <tr>\n",
       "      <th>2</th>\n",
       "      <td>eric</td>\n",
       "      <td>222</td>\n",
       "      <td>M</td>\n",
       "      <td>student</td>\n",
       "    </tr>\n",
       "  </tbody>\n",
       "</table>\n",
       "</div>"
      ],
      "text/plain": [
       "   name  age gender      job\n",
       "2  eric  222      M  student"
      ]
     },
     "execution_count": 51,
     "metadata": {},
     "output_type": "execute_result"
    }
   ],
   "source": [
    "# Class Assignment - 2\n",
    "# Replace all the names in upper case ('john' -> 'JOHN') \n",
    "# and all the job in proper case ('student' -> 'Student'). \n",
    "df.sample()"
   ]
  },
  {
   "cell_type": "code",
   "execution_count": 52,
   "id": "b091a3d9",
   "metadata": {},
   "outputs": [
    {
     "name": "stdout",
     "output_type": "stream",
     "text": [
      "    name  age gender        job\n",
      "0  ALICE   19      F    Student\n",
      "1   JOHN   26      M    Student\n",
      "2   ERIC   22      M    Student\n",
      "3  JULIE   58      F    Manager\n",
      "4  PETER   33      M   Engineer\n",
      "5   PAUL   44      F  Scientist\n"
     ]
    }
   ],
   "source": [
    "df = users.copy()\n",
    "df.loc[:, 'name'] = df.loc[:, 'name'].str.upper()\n",
    "df.loc[:, 'job'] = df.loc[:, 'job'].str.title()\n",
    "print(df)"
   ]
  },
  {
   "cell_type": "code",
   "execution_count": 53,
   "id": "e22b14af",
   "metadata": {},
   "outputs": [
    {
     "name": "stdout",
     "output_type": "stream",
     "text": [
      "    name  age gender        job\n",
      "0  ALICE   19      F    Student\n",
      "1   JOHN   26      M    Student\n",
      "2   ERIC   22      M    Student\n",
      "3  JULIE   58      F    Manager\n",
      "4  PETER   33      M   Engineer\n",
      "5   PAUL   44      F  Scientist\n"
     ]
    }
   ],
   "source": [
    "df = users.copy()\n",
    "df.name = df.name.str.upper()\n",
    "df.job = df.job.str.title()\n",
    "print(df)"
   ]
  },
  {
   "cell_type": "code",
   "execution_count": 54,
   "id": "6f5eddb0",
   "metadata": {},
   "outputs": [
    {
     "name": "stdout",
     "output_type": "stream",
     "text": [
      "0     True\n",
      "1     True\n",
      "2     True\n",
      "3    False\n",
      "4     True\n",
      "5    False\n",
      "Name: age, dtype: bool\n",
      "    name  age gender       job\n",
      "0  alice   19      F   student\n",
      "1   john   26      M   student\n",
      "2   eric   22      M   student\n",
      "4  peter   33      M  engineer\n",
      "    name  age gender        job\n",
      "3  julie   58      F    manager\n",
      "5   paul   44      F  scientist\n"
     ]
    }
   ],
   "source": [
    "df = users.copy()\n",
    "print(df.age <= 40)\n",
    "print(df[df.age <= 40])\n",
    "print(df[~(df.age <= 40)])  # ~ => not"
   ]
  },
  {
   "cell_type": "code",
   "execution_count": 55,
   "id": "e8a05dca",
   "metadata": {},
   "outputs": [
    {
     "data": {
      "text/html": [
       "<div>\n",
       "<style scoped>\n",
       "    .dataframe tbody tr th:only-of-type {\n",
       "        vertical-align: middle;\n",
       "    }\n",
       "\n",
       "    .dataframe tbody tr th {\n",
       "        vertical-align: top;\n",
       "    }\n",
       "\n",
       "    .dataframe thead th {\n",
       "        text-align: right;\n",
       "    }\n",
       "</style>\n",
       "<table border=\"1\" class=\"dataframe\">\n",
       "  <thead>\n",
       "    <tr style=\"text-align: right;\">\n",
       "      <th></th>\n",
       "      <th>name</th>\n",
       "      <th>age</th>\n",
       "      <th>gender</th>\n",
       "    </tr>\n",
       "  </thead>\n",
       "  <tbody>\n",
       "    <tr>\n",
       "      <th>0</th>\n",
       "      <td>alice</td>\n",
       "      <td>19</td>\n",
       "      <td>F</td>\n",
       "    </tr>\n",
       "  </tbody>\n",
       "</table>\n",
       "</div>"
      ],
      "text/plain": [
       "    name  age gender\n",
       "0  alice   19      F"
      ]
     },
     "execution_count": 55,
     "metadata": {},
     "output_type": "execute_result"
    }
   ],
   "source": [
    "# Class Assignment - 2\n",
    "# Display name, age and gender where gender is 'F' and age <= 40.\n",
    "# select name, age, gender from df\n",
    "# where age <= 40 and gender = 'F';\n",
    "df[(df.age <= 40) & (df.gender == 'F')][['name','age','gender']]"
   ]
  },
  {
   "cell_type": "code",
   "execution_count": 56,
   "id": "93d67380",
   "metadata": {},
   "outputs": [
    {
     "data": {
      "text/plain": [
       "0    alice\n",
       "4    peter\n",
       "Name: name, dtype: object"
      ]
     },
     "execution_count": 56,
     "metadata": {},
     "output_type": "execute_result"
    }
   ],
   "source": [
    "# Query: Find those person details who is male and age greater\n",
    "# than 30 or female and age less than 40.\n",
    "df = users.copy()\n",
    "df[((df.gender == 'M') & (df.age > 30)) | ((df.gender == 'F') & (df.age < 40))].name"
   ]
  },
  {
   "cell_type": "code",
   "execution_count": 57,
   "id": "42d407e9",
   "metadata": {},
   "outputs": [
    {
     "name": "stdout",
     "output_type": "stream",
     "text": [
      "0     True\n",
      "1     True\n",
      "2     True\n",
      "3    False\n",
      "4     True\n",
      "5    False\n",
      "Name: job, dtype: bool\n"
     ]
    },
    {
     "data": {
      "text/plain": [
       "0    alice\n",
       "1     john\n",
       "2     eric\n",
       "4    peter\n",
       "Name: name, dtype: object"
      ]
     },
     "execution_count": 57,
     "metadata": {},
     "output_type": "execute_result"
    }
   ],
   "source": [
    "# Query: Print those names who are having job either\n",
    "# 'student' or 'engineer'\n",
    "print(df.job.isin(['student', 'engineer']))\n",
    "df[df.job.isin(['student', 'engineer'])].name"
   ]
  },
  {
   "cell_type": "code",
   "execution_count": 58,
   "id": "f469d811",
   "metadata": {},
   "outputs": [
    {
     "name": "stdout",
     "output_type": "stream",
     "text": [
      "4     engineer\n",
      "3      manager\n",
      "5    scientist\n",
      "0      student\n",
      "1      student\n",
      "2      student\n",
      "Name: job, dtype: object\n",
      "0    19\n",
      "2    22\n",
      "1    26\n",
      "4    33\n",
      "5    44\n",
      "3    58\n",
      "Name: age, dtype: int64\n"
     ]
    }
   ],
   "source": [
    "df = users.copy()\n",
    "print(df.job.sort_values())\n",
    "print(df.age.sort_values())"
   ]
  },
  {
   "cell_type": "code",
   "execution_count": 59,
   "id": "5852d93f",
   "metadata": {},
   "outputs": [
    {
     "name": "stdout",
     "output_type": "stream",
     "text": [
      "0      student\n",
      "1      student\n",
      "2      student\n",
      "5    scientist\n",
      "3      manager\n",
      "4     engineer\n",
      "Name: job, dtype: object\n",
      "3    58\n",
      "5    44\n",
      "4    33\n",
      "1    26\n",
      "2    22\n",
      "0    19\n",
      "Name: age, dtype: int64\n"
     ]
    }
   ],
   "source": [
    "df = users.copy()\n",
    "print(df.job.sort_values(ascending = False))\n",
    "print(df.age.sort_values(ascending = False))"
   ]
  },
  {
   "cell_type": "code",
   "execution_count": 60,
   "id": "e9dba21f",
   "metadata": {},
   "outputs": [
    {
     "data": {
      "text/html": [
       "<div>\n",
       "<style scoped>\n",
       "    .dataframe tbody tr th:only-of-type {\n",
       "        vertical-align: middle;\n",
       "    }\n",
       "\n",
       "    .dataframe tbody tr th {\n",
       "        vertical-align: top;\n",
       "    }\n",
       "\n",
       "    .dataframe thead th {\n",
       "        text-align: right;\n",
       "    }\n",
       "</style>\n",
       "<table border=\"1\" class=\"dataframe\">\n",
       "  <thead>\n",
       "    <tr style=\"text-align: right;\">\n",
       "      <th></th>\n",
       "      <th>name</th>\n",
       "      <th>age</th>\n",
       "      <th>gender</th>\n",
       "      <th>job</th>\n",
       "    </tr>\n",
       "  </thead>\n",
       "  <tbody>\n",
       "    <tr>\n",
       "      <th>0</th>\n",
       "      <td>peter</td>\n",
       "      <td>33</td>\n",
       "      <td>M</td>\n",
       "      <td>engineer</td>\n",
       "    </tr>\n",
       "    <tr>\n",
       "      <th>1</th>\n",
       "      <td>julie</td>\n",
       "      <td>58</td>\n",
       "      <td>F</td>\n",
       "      <td>manager</td>\n",
       "    </tr>\n",
       "    <tr>\n",
       "      <th>2</th>\n",
       "      <td>paul</td>\n",
       "      <td>44</td>\n",
       "      <td>F</td>\n",
       "      <td>scientist</td>\n",
       "    </tr>\n",
       "    <tr>\n",
       "      <th>3</th>\n",
       "      <td>alice</td>\n",
       "      <td>19</td>\n",
       "      <td>F</td>\n",
       "      <td>student</td>\n",
       "    </tr>\n",
       "    <tr>\n",
       "      <th>4</th>\n",
       "      <td>john</td>\n",
       "      <td>26</td>\n",
       "      <td>M</td>\n",
       "      <td>student</td>\n",
       "    </tr>\n",
       "    <tr>\n",
       "      <th>5</th>\n",
       "      <td>eric</td>\n",
       "      <td>22</td>\n",
       "      <td>M</td>\n",
       "      <td>student</td>\n",
       "    </tr>\n",
       "  </tbody>\n",
       "</table>\n",
       "</div>"
      ],
      "text/plain": [
       "    name  age gender        job\n",
       "0  peter   33      M   engineer\n",
       "1  julie   58      F    manager\n",
       "2   paul   44      F  scientist\n",
       "3  alice   19      F    student\n",
       "4   john   26      M    student\n",
       "5   eric   22      M    student"
      ]
     },
     "execution_count": 60,
     "metadata": {},
     "output_type": "execute_result"
    }
   ],
   "source": [
    "df = users.copy()\n",
    "df.sort_values(by='job', ascending=True, inplace=True)\n",
    "# df = df.sort_values(by='job', ascending=True)\n",
    "df.index = range(0, len(df))\n",
    "df"
   ]
  }
 ],
 "metadata": {
  "kernelspec": {
   "display_name": "Python 3",
   "language": "python",
   "name": "python3"
  },
  "language_info": {
   "codemirror_mode": {
    "name": "ipython",
    "version": 3
   },
   "file_extension": ".py",
   "mimetype": "text/x-python",
   "name": "python",
   "nbconvert_exporter": "python",
   "pygments_lexer": "ipython3",
   "version": "3.13.2"
  }
 },
 "nbformat": 4,
 "nbformat_minor": 5
}
